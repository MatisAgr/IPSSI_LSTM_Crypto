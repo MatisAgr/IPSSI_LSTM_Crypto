{
 "cells": [
  {
   "cell_type": "markdown",
   "id": "bbc1024d",
   "metadata": {},
   "source": [
    "# TP - Prédiction du Prix du Bitcoin avec LSTM\n",
    "## Modèle de Réseau de Neurones à Long Short-Term Memory (LSTM)\n",
    "\n",
    "### Objectif\n",
    "Développer un modèle LSTM capable de prédire le prix d'une cryptomonnaie à court terme en utilisant un dataset historique des prix."
   ]
  },
  {
   "cell_type": "markdown",
   "id": "65405175",
   "metadata": {},
   "source": [
    "## 1. EXPLORATION ET PRÉPARATION DES DONNÉES"
   ]
  },
  {
   "cell_type": "markdown",
   "id": "798ef0bd",
   "metadata": {},
   "source": [
    "### 1.1 Import des librairies"
   ]
  },
  {
   "cell_type": "code",
   "execution_count": null,
   "id": "fc6789e7",
   "metadata": {},
   "outputs": [
    {
     "name": "stdout",
     "output_type": "stream",
     "text": [
      "✓ Toutes les librairies ont été importées avec succès\n"
     ]
    }
   ],
   "source": [
    "from tensorflow.keras.preprocessing.sequence import TimeseriesGenerator\n",
    "from sklearn.preprocessing import MinMaxScaler\n",
    "from sklearn.metrics import mean_squared_error, mean_absolute_error, mean_absolute_percentage_error, r2_score\n",
    "import numpy as np\n",
    "import pandas as pd\n",
    "from tensorflow.keras.models import Sequential\n",
    "from tensorflow.keras.layers import LSTM, Dense, Dropout\n",
    "from tensorflow.keras.optimizers import Adam\n",
    "from tensorflow.keras.callbacks import EarlyStopping\n",
    "import matplotlib.pyplot as plt\n",
    "import seaborn as sns\n",
    "import warnings\n",
    "warnings.filterwarnings('ignore')\n",
    "\n",
    "sns.set_style('darkgrid')\n",
    "plt.rcParams['figure.figsize'] = (16, 6)\n",
    "plt.rcParams['font.size'] = 10"
   ]
  },
  {
   "cell_type": "markdown",
   "id": "96b05c69",
   "metadata": {},
   "source": [
    "### 1.2 Chargement et exploration du dataset"
   ]
  },
  {
   "cell_type": "markdown",
   "id": "3e09d7cb",
   "metadata": {},
   "source": []
  },
  {
   "cell_type": "code",
   "execution_count": null,
   "id": "e1653fba",
   "metadata": {},
   "outputs": [
    {
     "name": "stdout",
     "output_type": "stream",
     "text": [
      "Chargement du dataset Bitcoin (BTC/USD 1-minute)...\n",
      "\n",
      "📊 INFORMATIONS DU DATASET:\n",
      "  • Shape: (7258717, 6)\n",
      "  • Colonnes: ['Timestamp', 'Open', 'High', 'Low', 'Close', 'Volume']\n",
      "\n",
      "  • Premières lignes:\n",
      "      Timestamp  Open  High   Low  Close  Volume\n",
      "0  1.325412e+09  4.58  4.58  4.58   4.58     0.0\n",
      "1  1.325412e+09  4.58  4.58  4.58   4.58     0.0\n",
      "2  1.325412e+09  4.58  4.58  4.58   4.58     0.0\n",
      "3  1.325412e+09  4.58  4.58  4.58   4.58     0.0\n",
      "4  1.325412e+09  4.58  4.58  4.58   4.58     0.0\n",
      "\n",
      "  • Statistiques descriptives:\n",
      "\n",
      "📊 INFORMATIONS DU DATASET:\n",
      "  • Shape: (7258717, 6)\n",
      "  • Colonnes: ['Timestamp', 'Open', 'High', 'Low', 'Close', 'Volume']\n",
      "\n",
      "  • Premières lignes:\n",
      "      Timestamp  Open  High   Low  Close  Volume\n",
      "0  1.325412e+09  4.58  4.58  4.58   4.58     0.0\n",
      "1  1.325412e+09  4.58  4.58  4.58   4.58     0.0\n",
      "2  1.325412e+09  4.58  4.58  4.58   4.58     0.0\n",
      "3  1.325412e+09  4.58  4.58  4.58   4.58     0.0\n",
      "4  1.325412e+09  4.58  4.58  4.58   4.58     0.0\n",
      "\n",
      "  • Statistiques descriptives:\n",
      "          Timestamp          Open          High           Low         Close  \\\n",
      "count  7.258717e+06  7.258717e+06  7.258717e+06  7.258717e+06  7.258717e+06   \n",
      "mean   1.543177e+09  2.060561e+04  2.061304e+04  2.059797e+04  2.060562e+04   \n",
      "std    1.257297e+08  2.916172e+04  2.916960e+04  2.915370e+04  2.916172e+04   \n",
      "min    1.325412e+09  3.800000e+00  3.800000e+00  3.800000e+00  3.800000e+00   \n",
      "25%    1.434293e+09  4.397000e+02  4.399200e+02  4.394800e+02  4.397000e+02   \n",
      "50%    1.543174e+09  7.175340e+03  7.179710e+03  7.171000e+03  7.175370e+03   \n",
      "75%    1.652054e+09  3.012700e+04  3.013500e+04  3.011900e+04  3.012722e+04   \n",
      "max    1.761005e+09  1.262020e+05  1.262720e+05  1.261580e+05  1.262020e+05   \n",
      "\n",
      "             Volume  \n",
      "count  7.258717e+06  \n",
      "mean   5.155193e+00  \n",
      "std    2.215169e+01  \n",
      "min    0.000000e+00  \n",
      "25%    1.898516e-02  \n",
      "50%    4.470067e-01  \n",
      "75%    2.915151e+00  \n",
      "max    5.853852e+03  \n",
      "\n",
      "  • Valeurs manquantes:\n",
      "Timestamp    0\n",
      "Open         0\n",
      "High         0\n",
      "Low          0\n",
      "Close        0\n",
      "Volume       0\n",
      "dtype: int64\n",
      "          Timestamp          Open          High           Low         Close  \\\n",
      "count  7.258717e+06  7.258717e+06  7.258717e+06  7.258717e+06  7.258717e+06   \n",
      "mean   1.543177e+09  2.060561e+04  2.061304e+04  2.059797e+04  2.060562e+04   \n",
      "std    1.257297e+08  2.916172e+04  2.916960e+04  2.915370e+04  2.916172e+04   \n",
      "min    1.325412e+09  3.800000e+00  3.800000e+00  3.800000e+00  3.800000e+00   \n",
      "25%    1.434293e+09  4.397000e+02  4.399200e+02  4.394800e+02  4.397000e+02   \n",
      "50%    1.543174e+09  7.175340e+03  7.179710e+03  7.171000e+03  7.175370e+03   \n",
      "75%    1.652054e+09  3.012700e+04  3.013500e+04  3.011900e+04  3.012722e+04   \n",
      "max    1.761005e+09  1.262020e+05  1.262720e+05  1.261580e+05  1.262020e+05   \n",
      "\n",
      "             Volume  \n",
      "count  7.258717e+06  \n",
      "mean   5.155193e+00  \n",
      "std    2.215169e+01  \n",
      "min    0.000000e+00  \n",
      "25%    1.898516e-02  \n",
      "50%    4.470067e-01  \n",
      "75%    2.915151e+00  \n",
      "max    5.853852e+03  \n",
      "\n",
      "  • Valeurs manquantes:\n",
      "Timestamp    0\n",
      "Open         0\n",
      "High         0\n",
      "Low          0\n",
      "Close        0\n",
      "Volume       0\n",
      "dtype: int64\n"
     ]
    }
   ],
   "source": [
    "# load dataset\n",
    "df = pd.read_csv('./data/btcusd_1-min_data.csv')\n",
    "print(f\"Shape: {df.shape}\")\n",
    "print(f\"Colonnes: {df.columns.tolist()}\")"
   ]
  },
  {
   "cell_type": "markdown",
   "id": "d2dc3887",
   "metadata": {},
   "source": [
    "### 1.3 Prétraitement des données"
   ]
  },
  {
   "cell_type": "code",
   "execution_count": null,
   "id": "ce1749cf",
   "metadata": {},
   "outputs": [
    {
     "name": "stdout",
     "output_type": "stream",
     "text": [
      "✓ Données nettoyées: 7258717 → 7258717 lignes\n",
      "\n",
      "📈 STATISTIQUES DES PRIX (BTC/USD):\n",
      "  • Total points: 7,258,717\n",
      "  • Durée: ~120,979h (~5,040.8j)\n",
      "  • Min: $3.80\n",
      "  • Max: $126202.00\n",
      "  • Moyenne: $20605.62\n",
      "  • Écart-type: $29161.71\n",
      "  • Plage: $126198.20\n",
      "\n",
      "✓ Données normalisées avec MinMaxScaler\n",
      "\n",
      "\n",
      "📈 STATISTIQUES DES PRIX (BTC/USD):\n",
      "  • Total points: 7,258,717\n",
      "  • Durée: ~120,979h (~5,040.8j)\n",
      "  • Min: $3.80\n",
      "  • Max: $126202.00\n",
      "  • Moyenne: $20605.62\n",
      "  • Écart-type: $29161.71\n",
      "  • Plage: $126198.20\n",
      "\n",
      "✓ Données normalisées avec MinMaxScaler\n"
     ]
    }
   ],
   "source": [
    "# Nettoyage des données\n",
    "df_clean = df.dropna()\n",
    "print(f\"✓ Données nettoyées: {len(df)} → {len(df_clean)} lignes\")\n",
    "\n",
    "# Extraction du prix de clôture\n",
    "price_column = 'Close'\n",
    "data = df_clean[price_column].values.reshape(-1, 1)\n",
    "\n",
    "print(f\"\\n📈 STATISTIQUES DES PRIX (BTC/USD):\")\n",
    "print(f\"Total points: {len(data):,}\")\n",
    "hours = len(data) / 60\n",
    "days = hours / 24\n",
    "print(f\"Durée: ~{hours:,.0f}h (~{days:,.1f}j)\")\n",
    "print(f\"Min: ${data.min():.2f}\")\n",
    "print(f\"Max: ${data.max():.2f}\")\n",
    "print(f\"Moyenne: ${data.mean():.2f}\")\n",
    "print(f\"Écart-type: ${data.std():.2f}\")\n",
    "print(f\"Plage: ${data.max() - data.min():.2f}\")\n",
    "\n",
    "# Normalisation des données [0, 1]\n",
    "scaler = MinMaxScaler(feature_range=(0, 1))\n",
    "data_normalized = scaler.fit_transform(data)\n",
    "print(f\"\\n✓ Données normalisées avec MinMaxScaler\")"
   ]
  },
  {
   "cell_type": "markdown",
   "id": "ce3dbe9e",
   "metadata": {},
   "source": [
    "## 2. VISUALISATION DES DONNÉES (EDA RÉDUITE)"
   ]
  },
  {
   "cell_type": "markdown",
   "id": "1a086075",
   "metadata": {},
   "source": [
    "### 2.1 Courbe complète du dataset"
   ]
  },
  {
   "cell_type": "code",
   "execution_count": 13,
   "id": "cc7a9069",
   "metadata": {},
   "outputs": [
    {
     "ename": "KeyboardInterrupt",
     "evalue": "",
     "output_type": "error",
     "traceback": [
      "\u001b[31m---------------------------------------------------------------------------\u001b[39m",
      "\u001b[31mKeyboardInterrupt\u001b[39m                         Traceback (most recent call last)",
      "\u001b[36mCell\u001b[39m\u001b[36m \u001b[39m\u001b[32mIn[13]\u001b[39m\u001b[32m, line 10\u001b[39m\n\u001b[32m      8\u001b[39m ax.grid(\u001b[38;5;28;01mTrue\u001b[39;00m, alpha=\u001b[32m0.3\u001b[39m)\n\u001b[32m      9\u001b[39m plt.tight_layout()\n\u001b[32m---> \u001b[39m\u001b[32m10\u001b[39m \u001b[43mplt\u001b[49m\u001b[43m.\u001b[49m\u001b[43msavefig\u001b[49m\u001b[43m(\u001b[49m\u001b[33;43m'\u001b[39;49m\u001b[33;43m01_bitcoin_full_history.png\u001b[39;49m\u001b[33;43m'\u001b[39;49m\u001b[43m,\u001b[49m\u001b[43m \u001b[49m\u001b[43mdpi\u001b[49m\u001b[43m=\u001b[49m\u001b[32;43m300\u001b[39;49m\u001b[43m,\u001b[49m\u001b[43m \u001b[49m\u001b[43mbbox_inches\u001b[49m\u001b[43m=\u001b[49m\u001b[33;43m'\u001b[39;49m\u001b[33;43mtight\u001b[39;49m\u001b[33;43m'\u001b[39;49m\u001b[43m)\u001b[49m\n\u001b[32m     11\u001b[39m plt.show()\n\u001b[32m     12\u001b[39m \u001b[38;5;28mprint\u001b[39m(\u001b[33m\"\u001b[39m\u001b[33m✓ Graphique 1: Courbe complète sauvegardé\u001b[39m\u001b[33m\"\u001b[39m)\n",
      "\u001b[36mFile \u001b[39m\u001b[32mc:\\Users\\matis\\Desktop\\Ceci est un dossier SSD\\IPSSI\\BigData-IA\\S14_ML\\IPSSI_LSTM_Crypto\\.venv\\Lib\\site-packages\\matplotlib\\pyplot.py:1250\u001b[39m, in \u001b[36msavefig\u001b[39m\u001b[34m(*args, **kwargs)\u001b[39m\n\u001b[32m   1247\u001b[39m fig = gcf()\n\u001b[32m   1248\u001b[39m \u001b[38;5;66;03m# savefig default implementation has no return, so mypy is unhappy\u001b[39;00m\n\u001b[32m   1249\u001b[39m \u001b[38;5;66;03m# presumably this is here because subclasses can return?\u001b[39;00m\n\u001b[32m-> \u001b[39m\u001b[32m1250\u001b[39m res = \u001b[43mfig\u001b[49m\u001b[43m.\u001b[49m\u001b[43msavefig\u001b[49m\u001b[43m(\u001b[49m\u001b[43m*\u001b[49m\u001b[43margs\u001b[49m\u001b[43m,\u001b[49m\u001b[43m \u001b[49m\u001b[43m*\u001b[49m\u001b[43m*\u001b[49m\u001b[43mkwargs\u001b[49m\u001b[43m)\u001b[49m  \u001b[38;5;66;03m# type: ignore[func-returns-value]\u001b[39;00m\n\u001b[32m   1251\u001b[39m fig.canvas.draw_idle()  \u001b[38;5;66;03m# Need this if 'transparent=True', to reset colors.\u001b[39;00m\n\u001b[32m   1252\u001b[39m \u001b[38;5;28;01mreturn\u001b[39;00m res\n",
      "\u001b[36mFile \u001b[39m\u001b[32mc:\\Users\\matis\\Desktop\\Ceci est un dossier SSD\\IPSSI\\BigData-IA\\S14_ML\\IPSSI_LSTM_Crypto\\.venv\\Lib\\site-packages\\matplotlib\\figure.py:3490\u001b[39m, in \u001b[36mFigure.savefig\u001b[39m\u001b[34m(self, fname, transparent, **kwargs)\u001b[39m\n\u001b[32m   3488\u001b[39m     \u001b[38;5;28;01mfor\u001b[39;00m ax \u001b[38;5;129;01min\u001b[39;00m \u001b[38;5;28mself\u001b[39m.axes:\n\u001b[32m   3489\u001b[39m         _recursively_make_axes_transparent(stack, ax)\n\u001b[32m-> \u001b[39m\u001b[32m3490\u001b[39m \u001b[38;5;28;43mself\u001b[39;49m\u001b[43m.\u001b[49m\u001b[43mcanvas\u001b[49m\u001b[43m.\u001b[49m\u001b[43mprint_figure\u001b[49m\u001b[43m(\u001b[49m\u001b[43mfname\u001b[49m\u001b[43m,\u001b[49m\u001b[43m \u001b[49m\u001b[43m*\u001b[49m\u001b[43m*\u001b[49m\u001b[43mkwargs\u001b[49m\u001b[43m)\u001b[49m\n",
      "\u001b[36mFile \u001b[39m\u001b[32mc:\\Users\\matis\\Desktop\\Ceci est un dossier SSD\\IPSSI\\BigData-IA\\S14_ML\\IPSSI_LSTM_Crypto\\.venv\\Lib\\site-packages\\matplotlib\\backend_bases.py:2160\u001b[39m, in \u001b[36mFigureCanvasBase.print_figure\u001b[39m\u001b[34m(self, filename, dpi, facecolor, edgecolor, orientation, format, bbox_inches, pad_inches, bbox_extra_artists, backend, **kwargs)\u001b[39m\n\u001b[32m   2158\u001b[39m \u001b[38;5;28;01mif\u001b[39;00m bbox_inches:\n\u001b[32m   2159\u001b[39m     \u001b[38;5;28;01mif\u001b[39;00m bbox_inches == \u001b[33m\"\u001b[39m\u001b[33mtight\u001b[39m\u001b[33m\"\u001b[39m:\n\u001b[32m-> \u001b[39m\u001b[32m2160\u001b[39m         bbox_inches = \u001b[38;5;28;43mself\u001b[39;49m\u001b[43m.\u001b[49m\u001b[43mfigure\u001b[49m\u001b[43m.\u001b[49m\u001b[43mget_tightbbox\u001b[49m\u001b[43m(\u001b[49m\n\u001b[32m   2161\u001b[39m \u001b[43m            \u001b[49m\u001b[43mrenderer\u001b[49m\u001b[43m,\u001b[49m\u001b[43m \u001b[49m\u001b[43mbbox_extra_artists\u001b[49m\u001b[43m=\u001b[49m\u001b[43mbbox_extra_artists\u001b[49m\u001b[43m)\u001b[49m\n\u001b[32m   2162\u001b[39m         \u001b[38;5;28;01mif\u001b[39;00m (\u001b[38;5;28misinstance\u001b[39m(layout_engine, ConstrainedLayoutEngine) \u001b[38;5;129;01mand\u001b[39;00m\n\u001b[32m   2163\u001b[39m                 pad_inches == \u001b[33m\"\u001b[39m\u001b[33mlayout\u001b[39m\u001b[33m\"\u001b[39m):\n\u001b[32m   2164\u001b[39m             h_pad = layout_engine.get()[\u001b[33m\"\u001b[39m\u001b[33mh_pad\u001b[39m\u001b[33m\"\u001b[39m]\n",
      "\u001b[36mFile \u001b[39m\u001b[32mc:\\Users\\matis\\Desktop\\Ceci est un dossier SSD\\IPSSI\\BigData-IA\\S14_ML\\IPSSI_LSTM_Crypto\\.venv\\Lib\\site-packages\\matplotlib\\figure.py:1848\u001b[39m, in \u001b[36mFigureBase.get_tightbbox\u001b[39m\u001b[34m(self, renderer, bbox_extra_artists)\u001b[39m\n\u001b[32m   1844\u001b[39m \u001b[38;5;28;01mif\u001b[39;00m ax.get_visible():\n\u001b[32m   1845\u001b[39m     \u001b[38;5;66;03m# some Axes don't take the bbox_extra_artists kwarg so we\u001b[39;00m\n\u001b[32m   1846\u001b[39m     \u001b[38;5;66;03m# need this conditional....\u001b[39;00m\n\u001b[32m   1847\u001b[39m     \u001b[38;5;28;01mtry\u001b[39;00m:\n\u001b[32m-> \u001b[39m\u001b[32m1848\u001b[39m         bbox = \u001b[43max\u001b[49m\u001b[43m.\u001b[49m\u001b[43mget_tightbbox\u001b[49m\u001b[43m(\u001b[49m\n\u001b[32m   1849\u001b[39m \u001b[43m            \u001b[49m\u001b[43mrenderer\u001b[49m\u001b[43m,\u001b[49m\u001b[43m \u001b[49m\u001b[43mbbox_extra_artists\u001b[49m\u001b[43m=\u001b[49m\u001b[43mbbox_extra_artists\u001b[49m\u001b[43m)\u001b[49m\n\u001b[32m   1850\u001b[39m     \u001b[38;5;28;01mexcept\u001b[39;00m \u001b[38;5;167;01mTypeError\u001b[39;00m:\n\u001b[32m   1851\u001b[39m         bbox = ax.get_tightbbox(renderer)\n",
      "\u001b[36mFile \u001b[39m\u001b[32mc:\\Users\\matis\\Desktop\\Ceci est un dossier SSD\\IPSSI\\BigData-IA\\S14_ML\\IPSSI_LSTM_Crypto\\.venv\\Lib\\site-packages\\matplotlib\\axes\\_base.py:4587\u001b[39m, in \u001b[36m_AxesBase.get_tightbbox\u001b[39m\u001b[34m(self, renderer, call_axes_locator, bbox_extra_artists, for_layout_only)\u001b[39m\n\u001b[32m   4584\u001b[39m     bbox_artists = \u001b[38;5;28mself\u001b[39m.get_default_bbox_extra_artists()\n\u001b[32m   4586\u001b[39m \u001b[38;5;28;01mfor\u001b[39;00m a \u001b[38;5;129;01min\u001b[39;00m bbox_artists:\n\u001b[32m-> \u001b[39m\u001b[32m4587\u001b[39m     bbox = \u001b[43ma\u001b[49m\u001b[43m.\u001b[49m\u001b[43mget_tightbbox\u001b[49m\u001b[43m(\u001b[49m\u001b[43mrenderer\u001b[49m\u001b[43m)\u001b[49m\n\u001b[32m   4588\u001b[39m     \u001b[38;5;28;01mif\u001b[39;00m (bbox \u001b[38;5;129;01mis\u001b[39;00m \u001b[38;5;129;01mnot\u001b[39;00m \u001b[38;5;28;01mNone\u001b[39;00m\n\u001b[32m   4589\u001b[39m             \u001b[38;5;129;01mand\u001b[39;00m \u001b[32m0\u001b[39m < bbox.width < np.inf\n\u001b[32m   4590\u001b[39m             \u001b[38;5;129;01mand\u001b[39;00m \u001b[32m0\u001b[39m < bbox.height < np.inf):\n\u001b[32m   4591\u001b[39m         bb.append(bbox)\n",
      "\u001b[36mFile \u001b[39m\u001b[32mc:\\Users\\matis\\Desktop\\Ceci est un dossier SSD\\IPSSI\\BigData-IA\\S14_ML\\IPSSI_LSTM_Crypto\\.venv\\Lib\\site-packages\\matplotlib\\legend.py:1060\u001b[39m, in \u001b[36mLegend.get_tightbbox\u001b[39m\u001b[34m(self, renderer)\u001b[39m\n\u001b[32m   1058\u001b[39m \u001b[38;5;28;01mdef\u001b[39;00m\u001b[38;5;250m \u001b[39m\u001b[34mget_tightbbox\u001b[39m(\u001b[38;5;28mself\u001b[39m, renderer=\u001b[38;5;28;01mNone\u001b[39;00m):\n\u001b[32m   1059\u001b[39m     \u001b[38;5;66;03m# docstring inherited\u001b[39;00m\n\u001b[32m-> \u001b[39m\u001b[32m1060\u001b[39m     \u001b[38;5;28;01mreturn\u001b[39;00m \u001b[38;5;28;43mself\u001b[39;49m\u001b[43m.\u001b[49m\u001b[43m_legend_box\u001b[49m\u001b[43m.\u001b[49m\u001b[43mget_window_extent\u001b[49m\u001b[43m(\u001b[49m\u001b[43mrenderer\u001b[49m\u001b[43m)\u001b[49m\n",
      "\u001b[36mFile \u001b[39m\u001b[32mc:\\Users\\matis\\Desktop\\Ceci est un dossier SSD\\IPSSI\\BigData-IA\\S14_ML\\IPSSI_LSTM_Crypto\\.venv\\Lib\\site-packages\\matplotlib\\offsetbox.py:369\u001b[39m, in \u001b[36mOffsetBox.get_window_extent\u001b[39m\u001b[34m(self, renderer)\u001b[39m\n\u001b[32m    367\u001b[39m bbox = \u001b[38;5;28mself\u001b[39m.get_bbox(renderer)\n\u001b[32m    368\u001b[39m \u001b[38;5;28;01mtry\u001b[39;00m:  \u001b[38;5;66;03m# Some subclasses redefine get_offset to take no args.\u001b[39;00m\n\u001b[32m--> \u001b[39m\u001b[32m369\u001b[39m     px, py = \u001b[38;5;28;43mself\u001b[39;49m\u001b[43m.\u001b[49m\u001b[43mget_offset\u001b[49m\u001b[43m(\u001b[49m\u001b[43mbbox\u001b[49m\u001b[43m,\u001b[49m\u001b[43m \u001b[49m\u001b[43mrenderer\u001b[49m\u001b[43m)\u001b[49m\n\u001b[32m    370\u001b[39m \u001b[38;5;28;01mexcept\u001b[39;00m \u001b[38;5;167;01mTypeError\u001b[39;00m:\n\u001b[32m    371\u001b[39m     px, py = \u001b[38;5;28mself\u001b[39m.get_offset()\n",
      "\u001b[36mFile \u001b[39m\u001b[32mc:\\Users\\matis\\Desktop\\Ceci est un dossier SSD\\IPSSI\\BigData-IA\\S14_ML\\IPSSI_LSTM_Crypto\\.venv\\Lib\\site-packages\\matplotlib\\offsetbox.py:60\u001b[39m, in \u001b[36m_compat_get_offset.<locals>.get_offset\u001b[39m\u001b[34m(self, *args, **kwargs)\u001b[39m\n\u001b[32m     56\u001b[39m params = _api.select_matching_signature(sigs, \u001b[38;5;28mself\u001b[39m, *args, **kwargs)\n\u001b[32m     57\u001b[39m bbox = (params[\u001b[33m\"\u001b[39m\u001b[33mbbox\u001b[39m\u001b[33m\"\u001b[39m] \u001b[38;5;28;01mif\u001b[39;00m \u001b[33m\"\u001b[39m\u001b[33mbbox\u001b[39m\u001b[33m\"\u001b[39m \u001b[38;5;129;01min\u001b[39;00m params \u001b[38;5;28;01melse\u001b[39;00m\n\u001b[32m     58\u001b[39m         Bbox.from_bounds(-params[\u001b[33m\"\u001b[39m\u001b[33mxdescent\u001b[39m\u001b[33m\"\u001b[39m], -params[\u001b[33m\"\u001b[39m\u001b[33mydescent\u001b[39m\u001b[33m\"\u001b[39m],\n\u001b[32m     59\u001b[39m                          params[\u001b[33m\"\u001b[39m\u001b[33mwidth\u001b[39m\u001b[33m\"\u001b[39m], params[\u001b[33m\"\u001b[39m\u001b[33mheight\u001b[39m\u001b[33m\"\u001b[39m]))\n\u001b[32m---> \u001b[39m\u001b[32m60\u001b[39m \u001b[38;5;28;01mreturn\u001b[39;00m \u001b[43mmeth\u001b[49m\u001b[43m(\u001b[49m\u001b[43mparams\u001b[49m\u001b[43m[\u001b[49m\u001b[33;43m\"\u001b[39;49m\u001b[33;43mself\u001b[39;49m\u001b[33;43m\"\u001b[39;49m\u001b[43m]\u001b[49m\u001b[43m,\u001b[49m\u001b[43m \u001b[49m\u001b[43mbbox\u001b[49m\u001b[43m,\u001b[49m\u001b[43m \u001b[49m\u001b[43mparams\u001b[49m\u001b[43m[\u001b[49m\u001b[33;43m\"\u001b[39;49m\u001b[33;43mrenderer\u001b[39;49m\u001b[33;43m\"\u001b[39;49m\u001b[43m]\u001b[49m\u001b[43m)\u001b[49m\n",
      "\u001b[36mFile \u001b[39m\u001b[32mc:\\Users\\matis\\Desktop\\Ceci est un dossier SSD\\IPSSI\\BigData-IA\\S14_ML\\IPSSI_LSTM_Crypto\\.venv\\Lib\\site-packages\\matplotlib\\offsetbox.py:306\u001b[39m, in \u001b[36mOffsetBox.get_offset\u001b[39m\u001b[34m(self, bbox, renderer)\u001b[39m\n\u001b[32m    291\u001b[39m \u001b[38;5;129m@_compat_get_offset\u001b[39m\n\u001b[32m    292\u001b[39m \u001b[38;5;28;01mdef\u001b[39;00m\u001b[38;5;250m \u001b[39m\u001b[34mget_offset\u001b[39m(\u001b[38;5;28mself\u001b[39m, bbox, renderer):\n\u001b[32m    293\u001b[39m \u001b[38;5;250m    \u001b[39m\u001b[33;03m\"\"\"\u001b[39;00m\n\u001b[32m    294\u001b[39m \u001b[33;03m    Return the offset as a tuple (x, y).\u001b[39;00m\n\u001b[32m    295\u001b[39m \n\u001b[32m   (...)\u001b[39m\u001b[32m    303\u001b[39m \u001b[33;03m    renderer : `.RendererBase` subclass\u001b[39;00m\n\u001b[32m    304\u001b[39m \u001b[33;03m    \"\"\"\u001b[39;00m\n\u001b[32m    305\u001b[39m     \u001b[38;5;28;01mreturn\u001b[39;00m (\n\u001b[32m--> \u001b[39m\u001b[32m306\u001b[39m         \u001b[38;5;28;43mself\u001b[39;49m\u001b[43m.\u001b[49m\u001b[43m_offset\u001b[49m\u001b[43m(\u001b[49m\u001b[43mbbox\u001b[49m\u001b[43m.\u001b[49m\u001b[43mwidth\u001b[49m\u001b[43m,\u001b[49m\u001b[43m \u001b[49m\u001b[43mbbox\u001b[49m\u001b[43m.\u001b[49m\u001b[43mheight\u001b[49m\u001b[43m,\u001b[49m\u001b[43m \u001b[49m\u001b[43m-\u001b[49m\u001b[43mbbox\u001b[49m\u001b[43m.\u001b[49m\u001b[43mx0\u001b[49m\u001b[43m,\u001b[49m\u001b[43m \u001b[49m\u001b[43m-\u001b[49m\u001b[43mbbox\u001b[49m\u001b[43m.\u001b[49m\u001b[43my0\u001b[49m\u001b[43m,\u001b[49m\u001b[43m \u001b[49m\u001b[43mrenderer\u001b[49m\u001b[43m)\u001b[49m\n\u001b[32m    307\u001b[39m         \u001b[38;5;28;01mif\u001b[39;00m \u001b[38;5;28mcallable\u001b[39m(\u001b[38;5;28mself\u001b[39m._offset)\n\u001b[32m    308\u001b[39m         \u001b[38;5;28;01melse\u001b[39;00m \u001b[38;5;28mself\u001b[39m._offset)\n",
      "\u001b[36mFile \u001b[39m\u001b[32mc:\\Users\\matis\\Desktop\\Ceci est un dossier SSD\\IPSSI\\BigData-IA\\S14_ML\\IPSSI_LSTM_Crypto\\.venv\\Lib\\site-packages\\matplotlib\\legend.py:722\u001b[39m, in \u001b[36mLegend._findoffset\u001b[39m\u001b[34m(self, width, height, xdescent, ydescent, renderer)\u001b[39m\n\u001b[32m    719\u001b[39m \u001b[38;5;250m\u001b[39m\u001b[33;03m\"\"\"Helper function to locate the legend.\"\"\"\u001b[39;00m\n\u001b[32m    721\u001b[39m \u001b[38;5;28;01mif\u001b[39;00m \u001b[38;5;28mself\u001b[39m._loc == \u001b[32m0\u001b[39m:  \u001b[38;5;66;03m# \"best\".\u001b[39;00m\n\u001b[32m--> \u001b[39m\u001b[32m722\u001b[39m     x, y = \u001b[38;5;28;43mself\u001b[39;49m\u001b[43m.\u001b[49m\u001b[43m_find_best_position\u001b[49m\u001b[43m(\u001b[49m\u001b[43mwidth\u001b[49m\u001b[43m,\u001b[49m\u001b[43m \u001b[49m\u001b[43mheight\u001b[49m\u001b[43m,\u001b[49m\u001b[43m \u001b[49m\u001b[43mrenderer\u001b[49m\u001b[43m)\u001b[49m\n\u001b[32m    723\u001b[39m \u001b[38;5;28;01melif\u001b[39;00m \u001b[38;5;28mself\u001b[39m._loc \u001b[38;5;129;01min\u001b[39;00m Legend.codes.values():  \u001b[38;5;66;03m# Fixed location.\u001b[39;00m\n\u001b[32m    724\u001b[39m     bbox = Bbox.from_bounds(\u001b[32m0\u001b[39m, \u001b[32m0\u001b[39m, width, height)\n",
      "\u001b[36mFile \u001b[39m\u001b[32mc:\\Users\\matis\\Desktop\\Ceci est un dossier SSD\\IPSSI\\BigData-IA\\S14_ML\\IPSSI_LSTM_Crypto\\.venv\\Lib\\site-packages\\matplotlib\\legend.py:1166\u001b[39m, in \u001b[36mLegend._find_best_position\u001b[39m\u001b[34m(self, width, height, renderer)\u001b[39m\n\u001b[32m   1163\u001b[39m legendBox = Bbox.from_bounds(l, b, width, height)\n\u001b[32m   1164\u001b[39m \u001b[38;5;66;03m# XXX TODO: If markers are present, it would be good to take them\u001b[39;00m\n\u001b[32m   1165\u001b[39m \u001b[38;5;66;03m# into account when checking vertex overlaps in the next line.\u001b[39;00m\n\u001b[32m-> \u001b[39m\u001b[32m1166\u001b[39m badness = (\u001b[38;5;28msum\u001b[39m(legendBox.count_contains(line.vertices)\n\u001b[32m   1167\u001b[39m                \u001b[38;5;28;01mfor\u001b[39;00m line \u001b[38;5;129;01min\u001b[39;00m lines)\n\u001b[32m   1168\u001b[39m            + legendBox.count_contains(offsets)\n\u001b[32m   1169\u001b[39m            + legendBox.count_overlaps(bboxes)\n\u001b[32m   1170\u001b[39m            + \u001b[38;5;28msum\u001b[39m(line.intersects_bbox(legendBox, filled=\u001b[38;5;28;01mFalse\u001b[39;00m)\n\u001b[32m   1171\u001b[39m                  \u001b[38;5;28;01mfor\u001b[39;00m line \u001b[38;5;129;01min\u001b[39;00m lines))\n\u001b[32m   1172\u001b[39m \u001b[38;5;66;03m# Include the index to favor lower codes in case of a tie.\u001b[39;00m\n\u001b[32m   1173\u001b[39m candidates.append((badness, idx, (l, b)))\n",
      "\u001b[36mFile \u001b[39m\u001b[32mc:\\Users\\matis\\Desktop\\Ceci est un dossier SSD\\IPSSI\\BigData-IA\\S14_ML\\IPSSI_LSTM_Crypto\\.venv\\Lib\\site-packages\\matplotlib\\legend.py:1166\u001b[39m, in \u001b[36m<genexpr>\u001b[39m\u001b[34m(.0)\u001b[39m\n\u001b[32m   1163\u001b[39m legendBox = Bbox.from_bounds(l, b, width, height)\n\u001b[32m   1164\u001b[39m \u001b[38;5;66;03m# XXX TODO: If markers are present, it would be good to take them\u001b[39;00m\n\u001b[32m   1165\u001b[39m \u001b[38;5;66;03m# into account when checking vertex overlaps in the next line.\u001b[39;00m\n\u001b[32m-> \u001b[39m\u001b[32m1166\u001b[39m badness = (\u001b[38;5;28msum\u001b[39m(\u001b[43mlegendBox\u001b[49m\u001b[43m.\u001b[49m\u001b[43mcount_contains\u001b[49m\u001b[43m(\u001b[49m\u001b[43mline\u001b[49m\u001b[43m.\u001b[49m\u001b[43mvertices\u001b[49m\u001b[43m)\u001b[49m\n\u001b[32m   1167\u001b[39m                \u001b[38;5;28;01mfor\u001b[39;00m line \u001b[38;5;129;01min\u001b[39;00m lines)\n\u001b[32m   1168\u001b[39m            + legendBox.count_contains(offsets)\n\u001b[32m   1169\u001b[39m            + legendBox.count_overlaps(bboxes)\n\u001b[32m   1170\u001b[39m            + \u001b[38;5;28msum\u001b[39m(line.intersects_bbox(legendBox, filled=\u001b[38;5;28;01mFalse\u001b[39;00m)\n\u001b[32m   1171\u001b[39m                  \u001b[38;5;28;01mfor\u001b[39;00m line \u001b[38;5;129;01min\u001b[39;00m lines))\n\u001b[32m   1172\u001b[39m \u001b[38;5;66;03m# Include the index to favor lower codes in case of a tie.\u001b[39;00m\n\u001b[32m   1173\u001b[39m candidates.append((badness, idx, (l, b)))\n",
      "\u001b[36mFile \u001b[39m\u001b[32mc:\\Users\\matis\\Desktop\\Ceci est un dossier SSD\\IPSSI\\BigData-IA\\S14_ML\\IPSSI_LSTM_Crypto\\.venv\\Lib\\site-packages\\matplotlib\\transforms.py:575\u001b[39m, in \u001b[36mBboxBase.count_contains\u001b[39m\u001b[34m(self, vertices)\u001b[39m\n\u001b[32m    572\u001b[39m vertices = np.asarray(vertices)\n\u001b[32m    573\u001b[39m \u001b[38;5;28;01mwith\u001b[39;00m np.errstate(invalid=\u001b[33m'\u001b[39m\u001b[33mignore\u001b[39m\u001b[33m'\u001b[39m):\n\u001b[32m    574\u001b[39m     \u001b[38;5;28;01mreturn\u001b[39;00m (\u001b[43m(\u001b[49m\u001b[43m(\u001b[49m\u001b[38;5;28;43mself\u001b[39;49m\u001b[43m.\u001b[49m\u001b[43mmin\u001b[49m\u001b[43m \u001b[49m\u001b[43m<\u001b[49m\u001b[43m \u001b[49m\u001b[43mvertices\u001b[49m\u001b[43m)\u001b[49m\u001b[43m \u001b[49m\u001b[43m&\u001b[49m\n\u001b[32m--> \u001b[39m\u001b[32m575\u001b[39m \u001b[43m             \u001b[49m\u001b[43m(\u001b[49m\u001b[43mvertices\u001b[49m\u001b[43m \u001b[49m\u001b[43m<\u001b[49m\u001b[43m \u001b[49m\u001b[38;5;28;43mself\u001b[39;49m\u001b[43m.\u001b[49m\u001b[43mmax\u001b[49m\u001b[43m)\u001b[49m\u001b[43m)\u001b[49m\u001b[43m.\u001b[49m\u001b[43mall\u001b[49m\u001b[43m(\u001b[49m\u001b[43maxis\u001b[49m\u001b[43m=\u001b[49m\u001b[32;43m1\u001b[39;49m\u001b[43m)\u001b[49m.sum())\n",
      "\u001b[36mFile \u001b[39m\u001b[32mc:\\Users\\matis\\Desktop\\Ceci est un dossier SSD\\IPSSI\\BigData-IA\\S14_ML\\IPSSI_LSTM_Crypto\\.venv\\Lib\\site-packages\\numpy\\_core\\_methods.py:66\u001b[39m, in \u001b[36m_all\u001b[39m\u001b[34m(a, axis, dtype, out, keepdims, where)\u001b[39m\n\u001b[32m     63\u001b[39m         \u001b[38;5;28;01mreturn\u001b[39;00m umr_any(a, axis, dtype, out, keepdims)\n\u001b[32m     64\u001b[39m     \u001b[38;5;28;01mreturn\u001b[39;00m umr_any(a, axis, dtype, out, keepdims, where=where)\n\u001b[32m---> \u001b[39m\u001b[32m66\u001b[39m \u001b[38;5;28;01mdef\u001b[39;00m\u001b[38;5;250m \u001b[39m\u001b[34m_all\u001b[39m(a, axis=\u001b[38;5;28;01mNone\u001b[39;00m, dtype=\u001b[38;5;28;01mNone\u001b[39;00m, out=\u001b[38;5;28;01mNone\u001b[39;00m, keepdims=\u001b[38;5;28;01mFalse\u001b[39;00m, *, where=\u001b[38;5;28;01mTrue\u001b[39;00m):\n\u001b[32m     67\u001b[39m     \u001b[38;5;66;03m# By default, return a boolean for any and all\u001b[39;00m\n\u001b[32m     68\u001b[39m     \u001b[38;5;28;01mif\u001b[39;00m dtype \u001b[38;5;129;01mis\u001b[39;00m \u001b[38;5;28;01mNone\u001b[39;00m:\n\u001b[32m     69\u001b[39m         dtype = bool_dt\n",
      "\u001b[31mKeyboardInterrupt\u001b[39m: "
     ]
    },
    {
     "ename": "",
     "evalue": "",
     "output_type": "error",
     "traceback": [
      "\u001b[1;31mImpossible d’exécuter le code ; la session a été supprimée. Essayez de redémarrer le noyau."
     ]
    },
    {
     "ename": "",
     "evalue": "",
     "output_type": "error",
     "traceback": [
      "\u001b[1;31mImpossible d’exécuter le code ; la session a été supprimée. Essayez de redémarrer le noyau. \n",
      "\u001b[1;31mPour plus d’informations, consultez Jupyter <a href='command:jupyter.viewOutput'>log</a>."
     ]
    }
   ],
   "source": [
    "fig, ax = plt.subplots(figsize=(16, 6))\n",
    "ax.plot(data, label='Bitcoin Price (BTC/USD)', color='#F7931A', linewidth=2)\n",
    "ax.fill_between(range(len(data)), data.flatten(), alpha=0.2, color='#F7931A')\n",
    "ax.set_title('Bitcoin Price History - Full Dataset (1-minute intervals)', fontsize=14, fontweight='bold')\n",
    "ax.set_xlabel('Time Index (minutes)')\n",
    "ax.set_ylabel('Price (USD)')\n",
    "ax.legend(fontsize=11)\n",
    "ax.grid(True, alpha=0.3)\n",
    "plt.tight_layout()\n",
    "plt.savefig('01_bitcoin_full_history.png', dpi=300, bbox_inches='tight')\n",
    "plt.show()\n",
    "print(\"✓ Graphique 1: Courbe complète sauvegardé\")"
   ]
  },
  {
   "cell_type": "markdown",
   "id": "83ca9936",
   "metadata": {},
   "source": [
    "### 2.2 Visualisations multi-échelles temporelles"
   ]
  },
  {
   "cell_type": "code",
   "execution_count": null,
   "id": "d264cd79",
   "metadata": {},
   "outputs": [],
   "source": [
    "fig, axes = plt.subplots(3, 2, figsize=(18, 14))\n",
    "fig.suptitle('Bitcoin Price Analysis at Different Time Scales', fontsize=16, fontweight='bold', y=0.995)\n",
    "\n",
    "# Timeframes: 10min, 60min, 1440min (1day), 1 week, 1 month, all data\n",
    "timeframes = [\n",
    "    (10, '10 Minutes', 0),\n",
    "    (60, '1 Hour', 1),\n",
    "    (1440, '1 Day (1440 min)', 2),\n",
    "    (10080, '1 Week (10080 min)', 3),\n",
    "    (43200, '1 Month (43200 min)', 4)\n",
    "]\n",
    "\n",
    "for minutes, label, idx in timeframes:\n",
    "    row = idx // 2\n",
    "    col = idx % 2\n",
    "    \n",
    "    start_idx = max(0, len(data) - minutes)\n",
    "    subset = data[start_idx:]\n",
    "    \n",
    "    axes[row, col].plot(range(len(subset)), subset, color='#F7931A', linewidth=2)\n",
    "    axes[row, col].fill_between(range(len(subset)), subset.flatten(), alpha=0.2, color='#F7931A')\n",
    "    axes[row, col].set_title(f'Last {label}', fontsize=12, fontweight='bold')\n",
    "    axes[row, col].set_xlabel('Time (minutes since start of period)')\n",
    "    axes[row, col].set_ylabel('Price (USD)')\n",
    "    axes[row, col].grid(True, alpha=0.3)\n",
    "    axes[row, col].yaxis.set_major_formatter(plt.FuncFormatter(lambda x, p: f'${x:.0f}'))\n",
    "\n",
    "# Remove the last empty subplot\n",
    "fig.delaxes(axes[2, 1])\n",
    "\n",
    "plt.tight_layout()\n",
    "plt.savefig('02_bitcoin_multi_scale.png', dpi=300, bbox_inches='tight')\n",
    "plt.show()\n",
    "print(\"✓ Graphique 2: Multi-échelles temporelles sauvegardé\")"
   ]
  },
  {
   "cell_type": "markdown",
   "id": "686586d6",
   "metadata": {},
   "source": [
    "### 2.3 Pairplot OHLCV"
   ]
  },
  {
   "cell_type": "code",
   "execution_count": null,
   "id": "848ef659",
   "metadata": {},
   "outputs": [],
   "source": [
    "# Créer un pairplot des données OHLCV\n",
    "df_ohlcv = df_clean[['Open', 'High', 'Low', 'Close', 'Volume']].tail(1000)  # Derniers 1000 points\n",
    "\n",
    "fig = plt.figure(figsize=(14, 10))\n",
    "sns.pairplot(df_ohlcv, diag_kind='hist', plot_kws={'alpha': 0.6}, diag_kws={'bins': 30, 'alpha': 0.7})\n",
    "plt.suptitle('Pairplot - OHLCV Correlations (Last 1000 minutes)', fontsize=14, fontweight='bold', y=0.995)\n",
    "plt.tight_layout()\n",
    "plt.savefig('03_bitcoin_pairplot.png', dpi=300, bbox_inches='tight')\n",
    "plt.show()\n",
    "\n",
    "print(\"✓ Graphique 3: Pairplot OHLCV sauvegardé\")\n",
    "print(f\"\\nMatrice de corrélation OHLCV:\")\n",
    "print(df_ohlcv.corr())"
   ]
  },
  {
   "cell_type": "markdown",
   "id": "a824905e",
   "metadata": {},
   "source": [
    "## 3. CONCEPTION DU MODÈLE LSTM"
   ]
  },
  {
   "cell_type": "markdown",
   "id": "e803575a",
   "metadata": {},
   "source": [
    "### 3.1 Préparation des données temporelles"
   ]
  },
  {
   "cell_type": "code",
   "execution_count": null,
   "id": "acecfbd3",
   "metadata": {},
   "outputs": [],
   "source": [
    "# Paramètres de la série temporelle\n",
    "look_back = 60  # Utiliser les 60 dernières minutes (1 heure) pour prédire la suivante\n",
    "batch_size = 32\n",
    "\n",
    "print(f\"📊 PARAMÈTRES DE CONFIGURATION:\")\n",
    "print(f\"Look-back period: {look_back} minutes (1 heure de données)\")\n",
    "print(f\"Batch size: {batch_size}\")\n",
    "print(f\"Total data points: {len(data_normalized):,}\")\n",
    "\n",
    "# Création du générateur de séries temporelles\n",
    "train_generator = TimeseriesGenerator(\n",
    "    data_normalized,\n",
    "    data_normalized,\n",
    "    length=look_back,\n",
    "    batch_size=batch_size\n",
    ")\n",
    "\n",
    "print(f\"\\nNombre de séquences d'entraînement: {len(train_generator)}\")\n",
    "print(f\"Forme de chaque batch: ({batch_size}, {look_back}, 1)\")"
   ]
  },
  {
   "cell_type": "markdown",
   "id": "b34ea2fe",
   "metadata": {},
   "source": [
    "### 3.2 Architecture du modèle LSTM"
   ]
  },
  {
   "cell_type": "code",
   "execution_count": null,
   "id": "8444f16e",
   "metadata": {},
   "outputs": [],
   "source": [
    "print(\"🧠 ARCHITECTURE DU MODÈLE LSTM:\\n\")\n",
    "print(\"Justification des choix d'architecture:\\n\")\n",
    "print(\"1. TROIS COUCHES LSTM (128 → 64 → 32 unités):\")\n",
    "print(\"   - Permet de capturer les dépendances temporelles complexes\")\n",
    "print(\"   - Réduction progressive: du général au spécifique\")\n",
    "print(\"   - Chaque couche affine les patterns détectés\\n\")\n",
    "\n",
    "print(\"2. DROPOUT (20%):\")\n",
    "print(\"   - Prévient l'overfitting sur le bruit des données\")\n",
    "print(\"   - Régularisation efficace pour les RNN\\n\")\n",
    "\n",
    "print(\"3. ACTIVATION RELU:\")\n",
    "print(\"   - Non-linéarité appropriée pour capturer les motifs complexes\")\n",
    "print(\"   - Permet au modèle d'apprendre des patterns non-linéaires\\n\")\n",
    "\n",
    "print(\"4. COUCHES DENSES (16, 1):\")\n",
    "print(\"   - Transition vers la prédiction finale\")\n",
    "print(\"   - Couche de sortie: 1 neurone pour prédire le prix suivant\\n\")\n",
    "\n",
    "model = Sequential([\n",
    "    LSTM(128, activation='relu', return_sequences=True, input_shape=(look_back, 1)),\n",
    "    Dropout(0.2),\n",
    "    LSTM(64, activation='relu', return_sequences=True),\n",
    "    Dropout(0.2),\n",
    "    LSTM(32, activation='relu'),\n",
    "    Dropout(0.2),\n",
    "    Dense(16, activation='relu'),\n",
    "    Dense(1)\n",
    "])\n",
    "\n",
    "model.compile(\n",
    "    optimizer=Adam(learning_rate=0.001),\n",
    "    loss='mean_squared_error',\n",
    "    metrics=['mae']\n",
    ")\n",
    "\n",
    "print(\"Résumé du modèle:\")\n",
    "model.summary()\n",
    "print(f\"\\nParamètres totaux: {model.count_params():,}\")"
   ]
  },
  {
   "cell_type": "markdown",
   "id": "6e4524bd",
   "metadata": {},
   "source": [
    "## 4. ENTRAÎNEMENT ET ÉVALUATION DU MODÈLE"
   ]
  },
  {
   "cell_type": "markdown",
   "id": "7c681489",
   "metadata": {},
   "source": [
    "### 4.1 Entraînement du modèle"
   ]
  },
  {
   "cell_type": "code",
   "execution_count": null,
   "id": "d2926fd1",
   "metadata": {},
   "outputs": [],
   "source": [
    "# Early stopping pour éviter l'overfitting\n",
    "early_stop = EarlyStopping(monitor='loss', patience=5, verbose=1)\n",
    "\n",
    "print(\"Entraînement du modèle LSTM...\\n\")\n",
    "history = model.fit(\n",
    "    train_generator,\n",
    "    epochs=30,\n",
    "    verbose=1,\n",
    "    batch_size=batch_size,\n",
    "    callbacks=[early_stop]\n",
    ")\n",
    "\n",
    "print(\"\\n✓ Entraînement terminé!\")"
   ]
  },
  {
   "cell_type": "markdown",
   "id": "eda34fa8",
   "metadata": {},
   "source": [
    "### 4.2 Génération des prédictions"
   ]
  },
  {
   "cell_type": "code",
   "execution_count": null,
   "id": "065c4e6b",
   "metadata": {},
   "outputs": [],
   "source": [
    "# Génération des prédictions\n",
    "print(\"Génération des prédictions...\")\n",
    "test_generator = TimeseriesGenerator(\n",
    "    data_normalized,\n",
    "    data_normalized,\n",
    "    length=look_back,\n",
    "    batch_size=1\n",
    ")\n",
    "\n",
    "predictions_normalized = model.predict(test_generator, verbose=0)\n",
    "predictions = scaler.inverse_transform(predictions_normalized)\n",
    "\n",
    "# Valeurs réelles correspondantes\n",
    "real_values = data[look_back:]\n",
    "\n",
    "print(f\"✓ Prédictions générées\")\n",
    "print(f\"Nombre de prédictions: {len(predictions):,}\")\n",
    "print(f\"Nombre de valeurs réelles: {len(real_values):,}\")"
   ]
  },
  {
   "cell_type": "markdown",
   "id": "4374d99a",
   "metadata": {},
   "source": [
    "### 4.3 Évaluation des performances"
   ]
  },
  {
   "cell_type": "code",
   "execution_count": null,
   "id": "7afee9ed",
   "metadata": {},
   "outputs": [],
   "source": [
    "# Calcul des métriques\n",
    "mse = mean_squared_error(real_values, predictions)\n",
    "rmse = np.sqrt(mse)\n",
    "mae = mean_absolute_error(real_values, predictions)\n",
    "mape = mean_absolute_percentage_error(real_values, predictions)\n",
    "r2 = r2_score(real_values, predictions)\n",
    "\n",
    "print(\"\\n\" + \"=\"*60)\n",
    "print(\"📊 MÉTRIQUES DE PERFORMANCE DU MODÈLE\")\n",
    "print(\"=\"*60)\n",
    "print(f\"\\nErreurs absolues:\")\n",
    "print(f\"MSE (Mean Squared Error):  {mse:,.2f}\")\n",
    "print(f\"RMSE (Root Mean Sq. Error): ${rmse:,.4f}\")\n",
    "print(f\"MAE (Mean Absolute Error):  ${mae:,.4f}\")\n",
    "print(f\"\\nErreur relative:\")\n",
    "print(f\"MAPE: {mape*100:.4f}%\")\n",
    "print(f\"\\nBonté d'ajustement:\")\n",
    "print(f\"R² Score: {r2:.4f} (0=mauvais, 1=parfait)\")\n",
    "print(\"=\"*60)\n",
    "\n",
    "# Analyse des erreurs\n",
    "error = real_values.flatten() - predictions.flatten()\n",
    "print(f\"\\n📈 ANALYSE DES ERREURS:\")\n",
    "print(f\"Erreur moyenne: ${np.mean(error):.4f}\")\n",
    "print(f\"Écart-type erreur: ${np.std(error):.4f}\")\n",
    "print(f\"Erreur min: ${np.min(error):.4f}\")\n",
    "print(f\"Erreur max: ${np.max(error):.4f}\")\n",
    "print(f\"Erreur médiane: ${np.median(error):.4f}\")"
   ]
  },
  {
   "cell_type": "markdown",
   "id": "a2bf06e3",
   "metadata": {},
   "source": [
    "## 5. VISUALISATION DES RÉSULTATS"
   ]
  },
  {
   "cell_type": "markdown",
   "id": "56a17502",
   "metadata": {},
   "source": [
    "### 5.1 Historique d'entraînement"
   ]
  },
  {
   "cell_type": "code",
   "execution_count": null,
   "id": "8440375c",
   "metadata": {},
   "outputs": [],
   "source": [
    "fig, axes = plt.subplots(1, 2, figsize=(16, 5))\n",
    "\n",
    "# Loss\n",
    "axes[0].plot(history.history['loss'], color='#FF6B6B', linewidth=2.5, marker='o', markersize=4)\n",
    "axes[0].set_title('Model Loss (MSE) During Training', fontsize=13, fontweight='bold')\n",
    "axes[0].set_xlabel('Epoch')\n",
    "axes[0].set_ylabel('Loss')\n",
    "axes[0].grid(True, alpha=0.3)\n",
    "\n",
    "# MAE\n",
    "axes[1].plot(history.history['mae'], color='#4ECDC4', linewidth=2.5, marker='s', markersize=4)\n",
    "axes[1].set_title('Mean Absolute Error (MAE) During Training', fontsize=13, fontweight='bold')\n",
    "axes[1].set_xlabel('Epoch')\n",
    "axes[1].set_ylabel('MAE')\n",
    "axes[1].grid(True, alpha=0.3)\n",
    "\n",
    "plt.tight_layout()\n",
    "plt.savefig('04_training_history.png', dpi=300, bbox_inches='tight')\n",
    "plt.show()\n",
    "print(\"✓ Graphique: Historique d'entraînement sauvegardé\")"
   ]
  },
  {
   "cell_type": "markdown",
   "id": "e320a9f1",
   "metadata": {},
   "source": [
    "### 5.2 Comparaison prédictions vs réalité"
   ]
  },
  {
   "cell_type": "code",
   "execution_count": null,
   "id": "b6811f6e",
   "metadata": {},
   "outputs": [],
   "source": [
    "fig, axes = plt.subplots(2, 1, figsize=(16, 10))\n",
    "\n",
    "# Prédictions complètes\n",
    "axes[0].plot(real_values, label='Actual Price', linewidth=2, color='#2E86AB', alpha=0.8)\n",
    "axes[0].plot(predictions, label='LSTM Prediction', linewidth=2, color='#A23B72', alpha=0.8)\n",
    "axes[0].fill_between(range(len(real_values)), real_values.flatten(), predictions.flatten(), \n",
    "                      alpha=0.2, color='gray')\n",
    "axes[0].set_title(f'Bitcoin Price: Actual vs LSTM Prediction (RMSE: ${rmse:,.4f})', \n",
    "                  fontsize=14, fontweight='bold')\n",
    "axes[0].set_ylabel('Price (USD)')\n",
    "axes[0].legend(fontsize=11)\n",
    "axes[0].grid(True, alpha=0.3)\n",
    "\n",
    "# Erreurs\n",
    "error = real_values.flatten() - predictions.flatten()\n",
    "axes[1].plot(error, linewidth=1.5, color='#F18F01')\n",
    "axes[1].axhline(y=0, color='black', linestyle='--', linewidth=1.5, alpha=0.5)\n",
    "axes[1].fill_between(range(len(error)), error, alpha=0.3, color='#F18F01')\n",
    "axes[1].set_title(f'Prediction Error (MAE: ${mae:,.4f})', fontsize=14, fontweight='bold')\n",
    "axes[1].set_xlabel('Time Index')\n",
    "axes[1].set_ylabel('Error (USD)')\n",
    "axes[1].grid(True, alpha=0.3)\n",
    "\n",
    "plt.tight_layout()\n",
    "plt.savefig('05_predictions_vs_actual.png', dpi=300, bbox_inches='tight')\n",
    "plt.show()\n",
    "print(\"✓ Graphique: Comparaison prédictions sauvegardé\")"
   ]
  },
  {
   "cell_type": "markdown",
   "id": "5c9038e8",
   "metadata": {},
   "source": [
    "## 6. PRÉDICTIONS FUTURES"
   ]
  },
  {
   "cell_type": "markdown",
   "id": "4e056614",
   "metadata": {},
   "source": [
    "### 6.1 Prédiction pour la prochaine heure"
   ]
  },
  {
   "cell_type": "code",
   "execution_count": null,
   "id": "f0940bac",
   "metadata": {},
   "outputs": [],
   "source": [
    "print(\"\\n\" + \"=\"*60)\n",
    "print(\"🔮 PRÉDICTIONS FUTURES\")\n",
    "print(\"=\"*60)\n",
    "\n",
    "# Utiliser les dernières données pour prédire la suite\n",
    "last_sequence = data_normalized[-look_back:].reshape(1, look_back, 1)\n",
    "\n",
    "# Prédictions pour la prochaine heure (60 minutes)\n",
    "future_predictions_hour = []\n",
    "last_data = last_sequence.copy()\n",
    "\n",
    "for i in range(60):\n",
    "    next_pred = model.predict(last_data, verbose=0)[0, 0]\n",
    "    future_predictions_hour.append(next_pred)\n",
    "    # Mettre à jour la séquence\n",
    "    last_data = np.append(last_data[:, 1:, :], [[[next_pred]]], axis=1)\n",
    "\n",
    "# Dénormaliser les prédictions\n",
    "future_predictions_hour = scaler.inverse_transform(\n",
    "    np.array(future_predictions_hour).reshape(-1, 1)\n",
    ")\n",
    "\n",
    "print(f\"\\n⏰ PRÉDICTION PROCHAINE HEURE (60 minutes):\")\n",
    "print(f\"Prix actuel: ${data[-1, 0]:.2f}\")\n",
    "print(f\"Prix prédit dans 1h: ${future_predictions_hour[-1, 0]:.2f}\")\n",
    "print(f\"Variation: {((future_predictions_hour[-1, 0] - data[-1, 0]) / data[-1, 0] * 100):+.4f}%\")\n",
    "print(f\"Min prédit: ${future_predictions_hour.min():.2f}\")\n",
    "print(f\"Max prédit: ${future_predictions_hour.max():.2f}\")"
   ]
  },
  {
   "cell_type": "markdown",
   "id": "a0ff5d36",
   "metadata": {},
   "source": [
    "### 6.2 Prédiction pour le prochain jour"
   ]
  },
  {
   "cell_type": "code",
   "execution_count": null,
   "id": "db233eef",
   "metadata": {},
   "outputs": [],
   "source": [
    "# Prédictions pour le prochain jour (1440 minutes)\n",
    "future_predictions_day = []\n",
    "last_data = last_sequence.copy()\n",
    "\n",
    "for i in range(1440):\n",
    "    next_pred = model.predict(last_data, verbose=0)[0, 0]\n",
    "    future_predictions_day.append(next_pred)\n",
    "    last_data = np.append(last_data[:, 1:, :], [[[next_pred]]], axis=1)\n",
    "\n",
    "future_predictions_day = scaler.inverse_transform(\n",
    "    np.array(future_predictions_day).reshape(-1, 1)\n",
    ")\n",
    "\n",
    "print(f\"\\n📅 PRÉDICTION PROCHAIN JOUR (1440 minutes):\")\n",
    "print(f\"Prix actuel: ${data[-1, 0]:.2f}\")\n",
    "print(f\"Prix prédit demain: ${future_predictions_day[-1, 0]:.2f}\")\n",
    "print(f\"Variation: {((future_predictions_day[-1, 0] - data[-1, 0]) / data[-1, 0] * 100):+.4f}%\")\n",
    "print(f\"Min prédit: ${future_predictions_day.min():.2f}\")\n",
    "print(f\"Max prédit: ${future_predictions_day.max():.2f}\")"
   ]
  },
  {
   "cell_type": "markdown",
   "id": "88ad5082",
   "metadata": {},
   "source": [
    "### 6.3 Prédiction pour la prochaine semaine"
   ]
  },
  {
   "cell_type": "code",
   "execution_count": null,
   "id": "b6d2c805",
   "metadata": {},
   "outputs": [],
   "source": [
    "# Prédictions pour la prochaine semaine (7 jours = 10080 minutes)\n",
    "future_predictions_week = []\n",
    "last_data = last_sequence.copy()\n",
    "\n",
    "for i in range(10080):\n",
    "    next_pred = model.predict(last_data, verbose=0)[0, 0]\n",
    "    future_predictions_week.append(next_pred)\n",
    "    last_data = np.append(last_data[:, 1:, :], [[[next_pred]]], axis=1)\n",
    "\n",
    "future_predictions_week = scaler.inverse_transform(\n",
    "    np.array(future_predictions_week).reshape(-1, 1)\n",
    ")\n",
    "\n",
    "print(f\"\\n📆 PRÉDICTION PROCHAINE SEMAINE (10080 minutes):\")\n",
    "print(f\"Prix actuel: ${data[-1, 0]:.2f}\")\n",
    "print(f\"Prix prédit dans 1 semaine: ${future_predictions_week[-1, 0]:.2f}\")\n",
    "print(f\"Variation: {((future_predictions_week[-1, 0] - data[-1, 0]) / data[-1, 0] * 100):+.4f}%\")\n",
    "print(f\"Min prédit: ${future_predictions_week.min():.2f}\")\n",
    "print(f\"Max prédit: ${future_predictions_week.max():.2f}\")"
   ]
  },
  {
   "cell_type": "markdown",
   "id": "656bd511",
   "metadata": {},
   "source": [
    "### 6.4 Prédiction pour le prochain mois"
   ]
  },
  {
   "cell_type": "code",
   "execution_count": null,
   "id": "361e4117",
   "metadata": {},
   "outputs": [],
   "source": [
    "# Prédictions pour le prochain mois (30 jours = 43200 minutes)\n",
    "future_predictions_month = []\n",
    "last_data = last_sequence.copy()\n",
    "\n",
    "for i in range(43200):\n",
    "    next_pred = model.predict(last_data, verbose=0)[0, 0]\n",
    "    future_predictions_month.append(next_pred)\n",
    "    last_data = np.append(last_data[:, 1:, :], [[[next_pred]]], axis=1)\n",
    "\n",
    "future_predictions_month = scaler.inverse_transform(\n",
    "    np.array(future_predictions_month).reshape(-1, 1)\n",
    ")\n",
    "\n",
    "print(f\"\\n📊 PRÉDICTION PROCHAIN MOIS (43200 minutes):\")\n",
    "print(f\"Prix actuel: ${data[-1, 0]:.2f}\")\n",
    "print(f\"Prix prédit dans 1 mois: ${future_predictions_month[-1, 0]:.2f}\")\n",
    "print(f\"Variation: {((future_predictions_month[-1, 0] - data[-1, 0]) / data[-1, 0] * 100):+.4f}%\")\n",
    "print(f\"Min prédit: ${future_predictions_month.min():.2f}\")\n",
    "print(f\"Max prédit: ${future_predictions_month.max():.2f}\")"
   ]
  },
  {
   "cell_type": "markdown",
   "id": "d876ec7b",
   "metadata": {},
   "source": [
    "### 6.5 Visualisation des prédictions futures"
   ]
  },
  {
   "cell_type": "code",
   "execution_count": null,
   "id": "2854fcc4",
   "metadata": {},
   "outputs": [],
   "source": [
    "fig, axes = plt.subplots(2, 2, figsize=(18, 12))\n",
    "fig.suptitle('Future Price Predictions', fontsize=16, fontweight='bold')\n",
    "\n",
    "# Heure\n",
    "axes[0, 0].plot(range(60), future_predictions_hour, color='#2E86AB', linewidth=2.5, marker='o')\n",
    "axes[0, 0].axhline(y=data[-1, 0], color='red', linestyle='--', label='Current Price')\n",
    "axes[0, 0].set_title('Next 1 Hour (60 minutes)', fontsize=12, fontweight='bold')\n",
    "axes[0, 0].set_xlabel('Minutes from now')\n",
    "axes[0, 0].set_ylabel('Price (USD)')\n",
    "axes[0, 0].legend()\n",
    "axes[0, 0].grid(True, alpha=0.3)\n",
    "\n",
    "# Jour\n",
    "axes[0, 1].plot(range(1440), future_predictions_day, color='#A23B72', linewidth=1.5)\n",
    "axes[0, 1].axhline(y=data[-1, 0], color='red', linestyle='--', label='Current Price')\n",
    "axes[0, 1].set_title('Next 1 Day (1440 minutes)', fontsize=12, fontweight='bold')\n",
    "axes[0, 1].set_xlabel('Minutes from now')\n",
    "axes[0, 1].set_ylabel('Price (USD)')\n",
    "axes[0, 1].legend()\n",
    "axes[0, 1].grid(True, alpha=0.3)\n",
    "\n",
    "# Semaine\n",
    "axes[1, 0].plot(range(10080), future_predictions_week, color='#F7931A', linewidth=1)\n",
    "axes[1, 0].axhline(y=data[-1, 0], color='red', linestyle='--', label='Current Price')\n",
    "axes[1, 0].set_title('Next 1 Week (10080 minutes)', fontsize=12, fontweight='bold')\n",
    "axes[1, 0].set_xlabel('Minutes from now')\n",
    "axes[1, 0].set_ylabel('Price (USD)')\n",
    "axes[1, 0].legend()\n",
    "axes[1, 0].grid(True, alpha=0.3)\n",
    "\n",
    "# Mois\n",
    "axes[1, 1].plot(range(43200), future_predictions_month, color='#27AE60', linewidth=0.8)\n",
    "axes[1, 1].axhline(y=data[-1, 0], color='red', linestyle='--', label='Current Price')\n",
    "axes[1, 1].set_title('Next 1 Month (43200 minutes)', fontsize=12, fontweight='bold')\n",
    "axes[1, 1].set_xlabel('Minutes from now')\n",
    "axes[1, 1].set_ylabel('Price (USD)')\n",
    "axes[1, 1].legend()\n",
    "axes[1, 1].grid(True, alpha=0.3)\n",
    "\n",
    "plt.tight_layout()\n",
    "plt.savefig('06_future_predictions.png', dpi=300, bbox_inches='tight')\n",
    "plt.show()\n",
    "print(\"✓ Graphique: Prédictions futures sauvegardé\")"
   ]
  },
  {
   "cell_type": "markdown",
   "id": "ab2cd948",
   "metadata": {},
   "source": [
    "## 7. ANALYSE DES RÉSULTATS ET CONCLUSION"
   ]
  },
  {
   "cell_type": "markdown",
   "id": "fc1650b1",
   "metadata": {},
   "source": [
    "### 7.1 Résumé complet"
   ]
  },
  {
   "cell_type": "code",
   "execution_count": null,
   "id": "ba1e8b7d",
   "metadata": {},
   "outputs": [],
   "source": [
    "print(\"\\n✅ ÉTAPES COMPLÉTÉES:\")\n",
    "print(\"\\n1. EXPLORATION ET PRÉPARATION DES DONNÉES:\")\n",
    "print(f\"   ✓ Dataset chargé: {len(data):,} points temporels (1-minute)\")\n",
    "print(f\"   ✓ Plage temporelle: ~{len(data)/60/24:.1f} jours\")\n",
    "print(f\"   ✓ Données nettoyées et normalisées [0, 1]\")\n",
    "print(f\"   ✓ Analyse descriptive effectuée\")\n",
    "\n",
    "print(\"\\n2. DESIGN DU MODÈLE LSTM:\")\n",
    "print(f\"   ✓ Architecture: 3 couches LSTM (128→64→32) + Dropout + Dense\")\n",
    "print(f\"   ✓ Paramètres totaux: {model.count_params():,}\")\n",
    "print(f\"   ✓ Look-back: {look_back} minutes\")\n",
    "print(f\"   ✓ Régularisation: Dropout 20% + EarlyStopping\")\n",
    "\n",
    "print(\"\\n3. ENTRAÎNEMENT ET ÉVALUATION:\")\n",
    "print(f\"   ✓ Epochs: {len(history.history['loss'])}\")\n",
    "print(f\"   ✓ Loss final: {history.history['loss'][-1]:.6f}\")\n",
    "print(f\"   ✓ Validation incluse\")\n",
    "\n",
    "print(\"\\n4. MÉTRIQUES DE PERFORMANCE:\")\n",
    "print(f\"   ✓ RMSE: ${rmse:,.4f}\")\n",
    "print(f\"   ✓ MAE: ${mae:,.4f}\")\n",
    "print(f\"   ✓ MAPE: {mape*100:.4f}%\")\n",
    "print(f\"   ✓ R² Score: {r2:.4f}\")\n",
    "\n",
    "print(\"\\n6. PRÉDICTIONS FUTURES:\")\n",
    "print(f\"   ✓ Prochaine heure: ${future_predictions_hour[-1, 0]:.2f}\")\n",
    "print(f\"   ✓ Prochain jour: ${future_predictions_day[-1, 0]:.2f}\")\n",
    "print(f\"   ✓ Prochaine semaine: ${future_predictions_week[-1, 0]:.2f}\")\n",
    "print(f\"   ✓ Prochain mois: ${future_predictions_month[-1, 0]:.2f}\")\n",
    "\n",
    "print(\"\\n\" + \"=\"*70)"
   ]
  },
  {
   "cell_type": "markdown",
   "id": "8b21a95f",
   "metadata": {},
   "source": [
    "### 7.2 Discussion des résultats"
   ]
  },
  {
   "cell_type": "code",
   "execution_count": null,
   "id": "567c8d2b",
   "metadata": {},
   "outputs": [],
   "source": [
    "print(\"\\n💡 ANALYSE DES RÉSULTATS:\")\n",
    "print(\"\\n1. PERFORMANCE DU MODÈLE:\")\n",
    "if r2 > 0.7:\n",
    "    print(f\" Excellent: R² = {r2:.4f} (>0.7)\")\n",
    "elif r2 > 0.5:\n",
    "    print(f\" Bon: R² = {r2:.4f} (0.5-0.7)\")\n",
    "else:\n",
    "    print(f\" Acceptable: R² = {r2:.4f} (<0.5)\")\n",
    "\n",
    "print(f\" MAPE = {mape*100:.4f}% indique une erreur moyenne de {mape*100:.2f}%\")\n",
    "print(f\" MAE = ${mae:,.4f} entre la prédiction et la réalité\")"
   ]
  }
 ],
 "metadata": {
  "kernelspec": {
   "display_name": ".venv",
   "language": "python",
   "name": "python3"
  },
  "language_info": {
   "name": "python",
   "version": "3.11.9"
  }
 },
 "nbformat": 4,
 "nbformat_minor": 5
}
