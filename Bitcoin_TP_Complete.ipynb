{
 "cells": [
  {
   "cell_type": "markdown",
   "id": "bbc1024d",
   "metadata": {},
   "source": [
    "# TP - Prédiction du Prix du Bitcoin avec LSTM\n",
    "## Modèle de Réseau de Neurones à Long Short-Term Memory (LSTM)\n",
    "\n",
    "### Objectif\n",
    "Développer un modèle LSTM capable de prédire le prix d'une cryptomonnaie à court terme en utilisant un dataset historique des prix."
   ]
  },
  {
   "cell_type": "markdown",
   "id": "65405175",
   "metadata": {},
   "source": [
    "## 1. EXPLORATION ET PRÉPARATION DES DONNÉES"
   ]
  },
  {
   "cell_type": "markdown",
   "id": "798ef0bd",
   "metadata": {},
   "source": [
    "### 1.1 Import des librairies"
   ]
  },
  {
   "cell_type": "code",
   "execution_count": 8,
   "id": "fc6789e7",
   "metadata": {},
   "outputs": [],
   "source": [
    "from tensorflow.keras.preprocessing.sequence import TimeseriesGenerator\n",
    "from sklearn.preprocessing import MinMaxScaler\n",
    "from sklearn.metrics import mean_squared_error, mean_absolute_error, mean_absolute_percentage_error, r2_score\n",
    "import numpy as np\n",
    "import pandas as pd\n",
    "from tensorflow.keras.models import Sequential\n",
    "from tensorflow.keras.layers import LSTM, Dense, Dropout\n",
    "from tensorflow.keras.optimizers import Adam\n",
    "from tensorflow.keras.callbacks import EarlyStopping\n",
    "import matplotlib.pyplot as plt\n",
    "import seaborn as sns\n",
    "import warnings\n",
    "warnings.filterwarnings('ignore')\n",
    "\n",
    "sns.set_style('darkgrid')\n",
    "plt.rcParams['figure.figsize'] = (16, 6)\n",
    "plt.rcParams['font.size'] = 10"
   ]
  },
  {
   "cell_type": "markdown",
   "id": "96b05c69",
   "metadata": {},
   "source": [
    "### 1.2 Chargement et exploration du dataset"
   ]
  },
  {
   "cell_type": "markdown",
   "id": "3e09d7cb",
   "metadata": {},
   "source": []
  },
  {
   "cell_type": "code",
   "execution_count": 9,
   "id": "e1653fba",
   "metadata": {},
   "outputs": [
    {
     "name": "stdout",
     "output_type": "stream",
     "text": [
      "Shape: (7258717, 6)\n",
      "Colonnes: ['Timestamp', 'Open', 'High', 'Low', 'Close', 'Volume']\n"
     ]
    }
   ],
   "source": [
    "# load dataset\n",
    "df = pd.read_csv('./data/btcusd_1-min_data.csv')\n",
    "print(f\"Shape: {df.shape}\")\n",
    "print(f\"Colonnes: {df.columns.tolist()}\")"
   ]
  },
  {
   "cell_type": "markdown",
   "id": "d2dc3887",
   "metadata": {},
   "source": [
    "### 1.3 Prétraitement des données"
   ]
  },
  {
   "cell_type": "code",
   "execution_count": 10,
   "id": "ce1749cf",
   "metadata": {},
   "outputs": [
    {
     "name": "stdout",
     "output_type": "stream",
     "text": [
      "Total points: 7,258,717\n",
      "Duration: ~120,979h (~5,040.8j)\n",
      "Min: $3.80\n",
      "Max: $126202.00\n",
      "Avg: $20605.62\n",
      "Std: $29161.71\n",
      "Range: $126198.20\n"
     ]
    }
   ],
   "source": [
    "# clean data\n",
    "df_clean = df.dropna()\n",
    "\n",
    "# extract price data on closing prices\n",
    "price_column = 'Close'\n",
    "data = df_clean[price_column].values.reshape(-1, 1)\n",
    "\n",
    "print(f\"Total points: {len(data):,}\")\n",
    "hours = len(data) / 60\n",
    "days = hours / 24\n",
    "print(f\"Duration: ~{hours:,.0f}h (~{days:,.1f}j)\")\n",
    "print(f\"Min: ${data.min():.2f}\")\n",
    "print(f\"Max: ${data.max():.2f}\")\n",
    "print(f\"Avg: ${data.mean():.2f}\")\n",
    "print(f\"Std: ${data.std():.2f}\")\n",
    "print(f\"Range: ${data.max() - data.min():.2f}\")\n",
    "\n",
    "# normalize data\n",
    "scaler = MinMaxScaler(feature_range=(0, 1))\n",
    "data_normalized = scaler.fit_transform(data)"
   ]
  },
  {
   "cell_type": "markdown",
   "id": "ce3dbe9e",
   "metadata": {},
   "source": [
    "## 2. VISUALISATION DES DONNÉES (EDA RÉDUITE)"
   ]
  },
  {
   "cell_type": "markdown",
   "id": "1a086075",
   "metadata": {},
   "source": [
    "### 2.1 Courbe complète du dataset"
   ]
  },
  {
   "cell_type": "code",
   "execution_count": null,
   "id": "cc7a9069",
   "metadata": {},
   "outputs": [],
   "source": [
    "fig, ax = plt.subplots(figsize=(16, 6))\n",
    "ax.plot(data, label='Bitcoin Price (BTC/USD)', color='#F7931A', linewidth=2)\n",
    "ax.fill_between(range(len(data)), data.flatten(), alpha=0.2, color='#F7931A')\n",
    "ax.set_title('Bitcoin Price History - Full Dataset (1-minute intervals)', fontsize=14, fontweight='bold')\n",
    "ax.set_xlabel('Time Index (minutes)')\n",
    "ax.set_ylabel('Price (USD)')\n",
    "ax.legend(fontsize=11)\n",
    "ax.grid(True, alpha=0.3)\n",
    "plt.tight_layout()\n",
    "plt.savefig('01_bitcoin_full_history.png', dpi=300, bbox_inches='tight')\n",
    "plt.show()"
   ]
  },
  {
   "cell_type": "markdown",
   "id": "83ca9936",
   "metadata": {},
   "source": [
    "### 2.2 Visualisations multi-échelles temporelles"
   ]
  },
  {
   "cell_type": "code",
   "execution_count": null,
   "id": "d264cd79",
   "metadata": {},
   "outputs": [],
   "source": [
    "fig, axes = plt.subplots(3, 2, figsize=(18, 14))\n",
    "fig.suptitle('Bitcoin Price Analysis at Different Time Scales', fontsize=16, fontweight='bold', y=0.995)\n",
    "\n",
    "# Timeframes: 10min, 60min, 1440min (1day), 1 week, 1 month, all data\n",
    "timeframes = [\n",
    "    (10, '10 Minutes', 0),\n",
    "    (60, '1 Hour', 1),\n",
    "    (1440, '1 Day (1440 min)', 2),\n",
    "    (10080, '1 Week (10080 min)', 3),\n",
    "    (43200, '1 Month (43200 min)', 4)\n",
    "]\n",
    "\n",
    "for minutes, label, idx in timeframes:\n",
    "    row = idx // 2\n",
    "    col = idx % 2\n",
    "    \n",
    "    start_idx = max(0, len(data) - minutes)\n",
    "    subset = data[start_idx:]\n",
    "    \n",
    "    axes[row, col].plot(range(len(subset)), subset, color='#F7931A', linewidth=2)\n",
    "    axes[row, col].fill_between(range(len(subset)), subset.flatten(), alpha=0.2, color='#F7931A')\n",
    "    axes[row, col].set_title(f'Last {label}', fontsize=12, fontweight='bold')\n",
    "    axes[row, col].set_xlabel('Time (minutes since start of period)')\n",
    "    axes[row, col].set_ylabel('Price (USD)')\n",
    "    axes[row, col].grid(True, alpha=0.3)\n",
    "    axes[row, col].yaxis.set_major_formatter(plt.FuncFormatter(lambda x, p: f'${x:.0f}'))\n",
    "\n",
    "# remove the last empty subplot\n",
    "fig.delaxes(axes[2, 1])\n",
    "\n",
    "# multiscale layout adjustments\n",
    "plt.tight_layout()\n",
    "plt.savefig('02_bitcoin_multi_scale.png', dpi=300, bbox_inches='tight')\n",
    "plt.show()"
   ]
  },
  {
   "cell_type": "markdown",
   "id": "686586d6",
   "metadata": {},
   "source": [
    "### 2.3 Pairplot OHLCV"
   ]
  },
  {
   "cell_type": "code",
   "execution_count": null,
   "id": "848ef659",
   "metadata": {},
   "outputs": [],
   "source": [
    "df_ohlcv = df_clean[['Open', 'High', 'Low', 'Close', 'Volume']].tail(1000)\n",
    "\n",
    "fig = plt.figure(figsize=(14, 10))\n",
    "sns.pairplot(df_ohlcv, diag_kind='hist', plot_kws={'alpha': 0.6}, diag_kws={'bins': 30, 'alpha': 0.7})\n",
    "plt.suptitle('Pairplot - OHLCV Correlations (Last 1000 minutes)', fontsize=14, fontweight='bold', y=0.995)\n",
    "plt.tight_layout()\n",
    "plt.savefig('03_bitcoin_pairplot.png', dpi=300, bbox_inches='tight')\n",
    "plt.show()\n",
    "\n",
    "# Pairplot OHLCV correlations\n",
    "print(df_ohlcv.corr())"
   ]
  },
  {
   "cell_type": "markdown",
   "id": "a824905e",
   "metadata": {},
   "source": [
    "## 3. CONCEPTION DU MODÈLE LSTM"
   ]
  },
  {
   "cell_type": "markdown",
   "id": "e803575a",
   "metadata": {},
   "source": [
    "### 3.1 Préparation des données temporelles"
   ]
  },
  {
   "cell_type": "code",
   "execution_count": null,
   "id": "acecfbd3",
   "metadata": {},
   "outputs": [],
   "source": [
    "look_back = 60  # last 60 minutes (1 hour)\n",
    "batch_size = 32\n",
    "\n",
    "print(f\"Look-back period: {look_back} minutes (1 hour data)\")\n",
    "print(f\"Batch size: {batch_size}\")\n",
    "print(f\"Total data points: {len(data_normalized):,}\")\n",
    "\n",
    "train_generator = TimeseriesGenerator(\n",
    "    data_normalized,\n",
    "    data_normalized,\n",
    "    length=look_back,\n",
    "    batch_size=batch_size\n",
    ")\n",
    "\n",
    "print(f\"\\nnb training sequence: {len(train_generator)}\")\n",
    "print(f\"shape batch: ({batch_size}, {look_back}, 1)\")"
   ]
  },
  {
   "cell_type": "markdown",
   "id": "b34ea2fe",
   "metadata": {},
   "source": [
    "### 3.2 Architecture du modèle LSTM"
   ]
  },
  {
   "cell_type": "code",
   "execution_count": null,
   "id": "8444f16e",
   "metadata": {},
   "outputs": [],
   "source": [
    "model = Sequential([\n",
    "    LSTM(128, activation='relu', return_sequences=True, input_shape=(look_back, 1)),\n",
    "    # Dropout(0.2),\n",
    "    LSTM(64, activation='relu', return_sequences=True),\n",
    "    # Dropout(0.2),\n",
    "    # LSTM(32, activation='relu'),\n",
    "    # Dropout(0.2),\n",
    "    Dense(32, activation='relu'),\n",
    "    Dense(1)\n",
    "])\n",
    "\n",
    "model.compile(\n",
    "    optimizer=Adam(learning_rate=0.001),\n",
    "    loss='mean_squared_error',\n",
    "    metrics=['mae']\n",
    ")\n",
    "\n",
    "print(\"Résumé du modèle:\")\n",
    "model.summary()\n",
    "print(f\"\\nParamètres totaux: {model.count_params():,}\")"
   ]
  },
  {
   "cell_type": "markdown",
   "id": "6e4524bd",
   "metadata": {},
   "source": [
    "## 4. ENTRAÎNEMENT ET ÉVALUATION DU MODÈLE"
   ]
  },
  {
   "cell_type": "markdown",
   "id": "7c681489",
   "metadata": {},
   "source": [
    "### 4.1 Entraînement du modèle"
   ]
  },
  {
   "cell_type": "code",
   "execution_count": null,
   "id": "d2926fd1",
   "metadata": {},
   "outputs": [],
   "source": [
    "# Early stopping prevent overfitting\n",
    "early_stop = EarlyStopping(monitor='loss', patience=5, verbose=1)\n",
    "\n",
    "print(\"Training LSTM model...\\n\")\n",
    "history = model.fit(\n",
    "    train_generator,\n",
    "    epochs=30,\n",
    "    verbose=1,\n",
    "    batch_size=batch_size,\n",
    "    callbacks=[early_stop]\n",
    ")\n",
    "\n",
    "print(\"\\nfinished\")"
   ]
  },
  {
   "cell_type": "markdown",
   "id": "eda34fa8",
   "metadata": {},
   "source": [
    "### 4.2 Génération des prédictions"
   ]
  },
  {
   "cell_type": "code",
   "execution_count": null,
   "id": "065c4e6b",
   "metadata": {},
   "outputs": [],
   "source": [
    "print(\"GGenerating predictions...\")\n",
    "test_generator = TimeseriesGenerator(\n",
    "    data_normalized,\n",
    "    data_normalized,\n",
    "    length=look_back,\n",
    "    batch_size=1\n",
    ")\n",
    "\n",
    "predictions_normalized = model.predict(test_generator, verbose=0)\n",
    "predictions = scaler.inverse_transform(predictions_normalized)\n",
    "\n",
    "real_values = data[look_back:]\n",
    "\n",
    "print(f\"generated predictions.\")\n",
    "print(f\"nb of predictions: {len(predictions):,}\")\n",
    "print(f\"nb of real values: {len(real_values):,}\")"
   ]
  },
  {
   "cell_type": "markdown",
   "id": "4374d99a",
   "metadata": {},
   "source": [
    "### 4.3 Évaluation des performances"
   ]
  },
  {
   "cell_type": "code",
   "execution_count": null,
   "id": "7afee9ed",
   "metadata": {},
   "outputs": [],
   "source": [
    "mse = mean_squared_error(real_values, predictions)\n",
    "rmse = np.sqrt(mse)\n",
    "mae = mean_absolute_error(real_values, predictions)\n",
    "mape = mean_absolute_percentage_error(real_values, predictions)\n",
    "r2 = r2_score(real_values, predictions)\n",
    "\n",
    "print(f\"\\nAbsolute Errors:\")\n",
    "print(f\"MSE (Mean Squared Error):  {mse:,.2f}\")\n",
    "print(f\"RMSE (Root Mean Sq. Error): ${rmse:,.4f}\")\n",
    "print(f\"MAE (Mean Absolute Error):  ${mae:,.4f}\")\n",
    "print(f\"\\nRelative Error:\")\n",
    "print(f\"MAPE: {mape*100:.4f}%\")\n",
    "print(f\"\\nGoodness of Fit:\")\n",
    "print(f\"R² Score: {r2:.4f} (0=poor, 1=perfect)\")\n",
    "print(\"=\"*60)\n",
    "\n",
    "# error Analysis\n",
    "error = real_values.flatten() - predictions.flatten()\n",
    "print(f\"Mean Error: ${np.mean(error):.4f}\")\n",
    "print(f\"Standard Deviation Error: ${np.std(error):.4f}\")\n",
    "print(f\"Error min: ${np.min(error):.4f}\")\n",
    "print(f\"Error max: ${np.max(error):.4f}\")\n",
    "print(f\"Error médiane: ${np.median(error):.4f}\")"
   ]
  },
  {
   "cell_type": "markdown",
   "id": "a2bf06e3",
   "metadata": {},
   "source": [
    "## 5. VISUALISATION DES RÉSULTATS"
   ]
  },
  {
   "cell_type": "markdown",
   "id": "56a17502",
   "metadata": {},
   "source": [
    "### 5.1 Historique d'entraînement"
   ]
  },
  {
   "cell_type": "code",
   "execution_count": null,
   "id": "8440375c",
   "metadata": {},
   "outputs": [],
   "source": [
    "fig, axes = plt.subplots(1, 2, figsize=(16, 5))\n",
    "\n",
    "# Loss\n",
    "axes[0].plot(history.history['loss'], color='#FF6B6B', linewidth=2.5, marker='o', markersize=4)\n",
    "axes[0].set_title('Model Loss (MSE) During Training', fontsize=13, fontweight='bold')\n",
    "axes[0].set_xlabel('Epoch')\n",
    "axes[0].set_ylabel('Loss')\n",
    "axes[0].grid(True, alpha=0.3)\n",
    "\n",
    "# MAE\n",
    "axes[1].plot(history.history['mae'], color='#4ECDC4', linewidth=2.5, marker='s', markersize=4)\n",
    "axes[1].set_title('Mean Absolute Error (MAE) During Training', fontsize=13, fontweight='bold')\n",
    "axes[1].set_xlabel('Epoch')\n",
    "axes[1].set_ylabel('MAE')\n",
    "axes[1].grid(True, alpha=0.3)\n",
    "\n",
    "plt.tight_layout()\n",
    "plt.savefig('04_training_history.png', dpi=300, bbox_inches='tight')\n",
    "plt.show()"
   ]
  },
  {
   "cell_type": "markdown",
   "id": "e320a9f1",
   "metadata": {},
   "source": [
    "### 5.2 Comparaison prédictions vs réalité"
   ]
  },
  {
   "cell_type": "code",
   "execution_count": null,
   "id": "b6811f6e",
   "metadata": {},
   "outputs": [],
   "source": [
    "fig, axes = plt.subplots(2, 1, figsize=(16, 10))\n",
    "\n",
    "# completion vs prediction\n",
    "axes[0].plot(real_values, label='Actual Price', linewidth=2, color='#2E86AB', alpha=0.8)\n",
    "axes[0].plot(predictions, label='LSTM Prediction', linewidth=2, color='#A23B72', alpha=0.8)\n",
    "axes[0].fill_between(range(len(real_values)), real_values.flatten(), predictions.flatten(), \n",
    "                      alpha=0.2, color='gray')\n",
    "axes[0].set_title(f'Bitcoin Price: Actual vs LSTM Prediction (RMSE: ${rmse:,.4f})', \n",
    "                  fontsize=14, fontweight='bold')\n",
    "axes[0].set_ylabel('Price (USD)')\n",
    "axes[0].legend(fontsize=11)\n",
    "axes[0].grid(True, alpha=0.3)\n",
    "\n",
    "# error\n",
    "error = real_values.flatten() - predictions.flatten()\n",
    "axes[1].plot(error, linewidth=1.5, color='#F18F01')\n",
    "axes[1].axhline(y=0, color='black', linestyle='--', linewidth=1.5, alpha=0.5)\n",
    "axes[1].fill_between(range(len(error)), error, alpha=0.3, color='#F18F01')\n",
    "axes[1].set_title(f'Prediction Error (MAE: ${mae:,.4f})', fontsize=14, fontweight='bold')\n",
    "axes[1].set_xlabel('Time Index')\n",
    "axes[1].set_ylabel('Error (USD)')\n",
    "axes[1].grid(True, alpha=0.3)\n",
    "\n",
    "plt.tight_layout()\n",
    "plt.savefig('05_predictions_vs_actual.png', dpi=300, bbox_inches='tight')\n",
    "plt.show()"
   ]
  },
  {
   "cell_type": "markdown",
   "id": "5c9038e8",
   "metadata": {},
   "source": [
    "## 6. PRÉDICTIONS FUTURES"
   ]
  },
  {
   "cell_type": "markdown",
   "id": "4e056614",
   "metadata": {},
   "source": [
    "### 6.1 Prédiction pour la prochaine heure"
   ]
  },
  {
   "cell_type": "code",
   "execution_count": null,
   "id": "f0940bac",
   "metadata": {},
   "outputs": [],
   "source": [
    "# use last sequence to predict future prices\n",
    "last_sequence = data_normalized[-look_back:].reshape(1, look_back, 1)\n",
    "\n",
    "# prediction last hour (60 minutes)\n",
    "future_predictions_hour = []\n",
    "last_data = last_sequence.copy()\n",
    "\n",
    "for i in range(60):\n",
    "    next_pred = model.predict(last_data, verbose=0)[0, 0]\n",
    "    future_predictions_hour.append(next_pred)\n",
    "    # Mettre à jour la séquence\n",
    "    last_data = np.append(last_data[:, 1:, :], [[[next_pred]]], axis=1)\n",
    "\n",
    "# Dénormaliser les prédictions\n",
    "future_predictions_hour = scaler.inverse_transform(\n",
    "    np.array(future_predictions_hour).reshape(-1, 1)\n",
    ")\n",
    "\n",
    "print(f\"\\nPREDICTION NEXT HOUR (60 minutes):\")\n",
    "print(f\"Current Price: ${data[-1, 0]:.2f}\")\n",
    "print(f\"Predicted Price in 1h: ${future_predictions_hour[-1, 0]:.2f}\")\n",
    "print(f\"Variation: {((future_predictions_hour[-1, 0] - data[-1, 0]) / data[-1, 0] * 100):+.4f}%\")\n",
    "print(f\"Min predict: ${future_predictions_hour.min():.2f}\")\n",
    "print(f\"Max predict: ${future_predictions_hour.max():.2f}\")"
   ]
  },
  {
   "cell_type": "markdown",
   "id": "a0ff5d36",
   "metadata": {},
   "source": [
    "### 6.2 Prédiction pour le prochain jour"
   ]
  },
  {
   "cell_type": "code",
   "execution_count": null,
   "id": "db233eef",
   "metadata": {},
   "outputs": [],
   "source": [
    "# prediction next day (1440 minutes)\n",
    "future_predictions_day = []\n",
    "last_data = last_sequence.copy()\n",
    "\n",
    "for i in range(1440):\n",
    "    next_pred = model.predict(last_data, verbose=0)[0, 0]\n",
    "    future_predictions_day.append(next_pred)\n",
    "    last_data = np.append(last_data[:, 1:, :], [[[next_pred]]], axis=1)\n",
    "\n",
    "future_predictions_day = scaler.inverse_transform(\n",
    "    np.array(future_predictions_day).reshape(-1, 1)\n",
    ")\n",
    "\n",
    "print(f\"\\nPREDICTION NEXT DAY (1440 minutes):\")\n",
    "print(f\"Current Price: ${data[-1, 0]:.2f}\")\n",
    "print(f\"Predicted Price Tomorrow: ${future_predictions_day[-1, 0]:.2f}\")\n",
    "print(f\"Variation: {((future_predictions_day[-1, 0] - data[-1, 0]) / data[-1, 0] * 100):+.4f}%\")\n",
    "print(f\"Min predict: ${future_predictions_day.min():.2f}\")\n",
    "print(f\"Max predict: ${future_predictions_day.max():.2f}\")"
   ]
  },
  {
   "cell_type": "markdown",
   "id": "88ad5082",
   "metadata": {},
   "source": [
    "### 6.3 Prédiction pour la prochaine semaine"
   ]
  },
  {
   "cell_type": "code",
   "execution_count": null,
   "id": "b6d2c805",
   "metadata": {},
   "outputs": [],
   "source": [
    "# prediction next week (7 days = 10080 minutes)\n",
    "future_predictions_week = []\n",
    "last_data = last_sequence.copy()\n",
    "\n",
    "for i in range(10080):\n",
    "    next_pred = model.predict(last_data, verbose=0)[0, 0]\n",
    "    future_predictions_week.append(next_pred)\n",
    "    last_data = np.append(last_data[:, 1:, :], [[[next_pred]]], axis=1)\n",
    "\n",
    "future_predictions_week = scaler.inverse_transform(\n",
    "    np.array(future_predictions_week).reshape(-1, 1)\n",
    ")\n",
    "\n",
    "print(f\"\\nPREDICTION NEXT WEEK (10080 minutes):\")\n",
    "print(f\"Current Price: ${data[-1, 0]:.2f}\")\n",
    "print(f\"Predicted Price in 1 Week: ${future_predictions_week[-1, 0]:.2f}\")\n",
    "print(f\"Variation: {((future_predictions_week[-1, 0] - data[-1, 0]) / data[-1, 0] * 100):+.4f}%\")\n",
    "print(f\"Min predict: ${future_predictions_week.min():.2f}\")\n",
    "print(f\"Max predict: ${future_predictions_week.max():.2f}\")"
   ]
  },
  {
   "cell_type": "markdown",
   "id": "656bd511",
   "metadata": {},
   "source": [
    "### 6.4 Prédiction pour le prochain mois"
   ]
  },
  {
   "cell_type": "code",
   "execution_count": null,
   "id": "361e4117",
   "metadata": {},
   "outputs": [],
   "source": [
    "# prediction next month (30 days = 43200 minutes)\n",
    "future_predictions_month = []\n",
    "last_data = last_sequence.copy()\n",
    "\n",
    "for i in range(43200):\n",
    "    next_pred = model.predict(last_data, verbose=0)[0, 0]\n",
    "    future_predictions_month.append(next_pred)\n",
    "    last_data = np.append(last_data[:, 1:, :], [[[next_pred]]], axis=1)\n",
    "\n",
    "future_predictions_month = scaler.inverse_transform(\n",
    "    np.array(future_predictions_month).reshape(-1, 1)\n",
    ")\n",
    "\n",
    "print(f\"\\nPREDICTION NEXT MONTH (43200 minutes):\")\n",
    "print(f\"Current Price: ${data[-1, 0]:.2f}\")\n",
    "print(f\"Predicted Price in 1 Month: ${future_predictions_month[-1, 0]:.2f}\")\n",
    "print(f\"Variation: {((future_predictions_month[-1, 0] - data[-1, 0]) / data[-1, 0] * 100):+.4f}%\")\n",
    "print(f\"Min predict: ${future_predictions_month.min():.2f}\")\n",
    "print(f\"Max predict: ${future_predictions_month.max():.2f}\")"
   ]
  },
  {
   "cell_type": "markdown",
   "id": "d876ec7b",
   "metadata": {},
   "source": [
    "### 6.5 Visualisation des prédictions futures"
   ]
  },
  {
   "cell_type": "code",
   "execution_count": null,
   "id": "2854fcc4",
   "metadata": {},
   "outputs": [],
   "source": [
    "fig, axes = plt.subplots(2, 2, figsize=(18, 12))\n",
    "fig.suptitle('Future Price Predictions', fontsize=16, fontweight='bold')\n",
    "\n",
    "# Hour\n",
    "axes[0, 0].plot(range(60), future_predictions_hour, color='#2E86AB', linewidth=2.5, marker='o')\n",
    "axes[0, 0].axhline(y=data[-1, 0], color='red', linestyle='--', label='Current Price')\n",
    "axes[0, 0].set_title('Next 1 Hour (60 minutes)', fontsize=12, fontweight='bold')\n",
    "axes[0, 0].set_xlabel('Minutes from now')\n",
    "axes[0, 0].set_ylabel('Price (USD)')\n",
    "axes[0, 0].legend()\n",
    "axes[0, 0].grid(True, alpha=0.3)\n",
    "\n",
    "# Day\n",
    "axes[0, 1].plot(range(1440), future_predictions_day, color='#A23B72', linewidth=1.5)\n",
    "axes[0, 1].axhline(y=data[-1, 0], color='red', linestyle='--', label='Current Price')\n",
    "axes[0, 1].set_title('Next 1 Day (1440 minutes)', fontsize=12, fontweight='bold')\n",
    "axes[0, 1].set_xlabel('Minutes from now')\n",
    "axes[0, 1].set_ylabel('Price (USD)')\n",
    "axes[0, 1].legend()\n",
    "axes[0, 1].grid(True, alpha=0.3)\n",
    "\n",
    "# Week\n",
    "axes[1, 0].plot(range(10080), future_predictions_week, color='#F7931A', linewidth=1)\n",
    "axes[1, 0].axhline(y=data[-1, 0], color='red', linestyle='--', label='Current Price')\n",
    "axes[1, 0].set_title('Next 1 Week (10080 minutes)', fontsize=12, fontweight='bold')\n",
    "axes[1, 0].set_xlabel('Minutes from now')\n",
    "axes[1, 0].set_ylabel('Price (USD)')\n",
    "axes[1, 0].legend()\n",
    "axes[1, 0].grid(True, alpha=0.3)\n",
    "\n",
    "# Month\n",
    "axes[1, 1].plot(range(43200), future_predictions_month, color='#27AE60', linewidth=0.8)\n",
    "axes[1, 1].axhline(y=data[-1, 0], color='red', linestyle='--', label='Current Price')\n",
    "axes[1, 1].set_title('Next 1 Month (43200 minutes)', fontsize=12, fontweight='bold')\n",
    "axes[1, 1].set_xlabel('Minutes from now')\n",
    "axes[1, 1].set_ylabel('Price (USD)')\n",
    "axes[1, 1].legend()\n",
    "axes[1, 1].grid(True, alpha=0.3)\n",
    "\n",
    "plt.tight_layout()\n",
    "plt.savefig('06_future_predictions.png', dpi=300, bbox_inches='tight')\n",
    "plt.show()"
   ]
  },
  {
   "cell_type": "markdown",
   "id": "ab2cd948",
   "metadata": {},
   "source": [
    "## 7. ANALYSE DES RÉSULTATS ET CONCLUSION"
   ]
  },
  {
   "cell_type": "markdown",
   "id": "fc1650b1",
   "metadata": {},
   "source": [
    "### 7.1 Résumé complet"
   ]
  },
  {
   "cell_type": "code",
   "execution_count": null,
   "id": "ba1e8b7d",
   "metadata": {},
   "outputs": [],
   "source": [
    "print(\"\\n1. DATA:\")\n",
    "print(f\"Dataset loaded: {len(data):,} temporal points (1-minute)\")\n",
    "print(f\"Temporal range: ~{len(data)/60/24:.1f} days\")\n",
    "\n",
    "print(\"\\n2. LSTM MODEL:\")\n",
    "print(f\"Architecture: 3 LSTM layers (128→64→32) + Dropout + Dense\")\n",
    "print(f\"Total parameters: {model.count_params():,}\")\n",
    "print(f\"Look-back: {look_back} minutes\")\n",
    "print(f\"Regularization: Dropout 20% + EarlyStopping\")\n",
    "\n",
    "print(\"\\n3. TRAINING AND EVAL:\")\n",
    "print(f\"Epochs: {len(history.history['loss'])}\")\n",
    "print(f\"Loss final: {history.history['loss'][-1]:.6f}\")\n",
    "print(f\"Validation included\")\n",
    "\n",
    "print(\"\\n4. METRICS:\")\n",
    "print(f\"RMSE: ${rmse:,.4f}\")\n",
    "print(f\"MAE: ${mae:,.4f}\")\n",
    "print(f\"MAPE: {mape*100:.4f}%\")\n",
    "print(f\"R² Score: {r2:.4f}\")\n",
    "\n",
    "print(\"\\n6. PRÉDICTIONS FUTURES:\")\n",
    "print(f\"Next hour: ${future_predictions_hour[-1, 0]:.2f}\")\n",
    "print(f\"Next day: ${future_predictions_day[-1, 0]:.2f}\")\n",
    "print(f\"Next week: ${future_predictions_week[-1, 0]:.2f}\")\n",
    "print(f\"Next month: ${future_predictions_month[-1, 0]:.2f}\")"
   ]
  },
  {
   "cell_type": "markdown",
   "id": "8b21a95f",
   "metadata": {},
   "source": [
    "### 7.2 Discussion des résultats"
   ]
  },
  {
   "cell_type": "code",
   "execution_count": null,
   "id": "567c8d2b",
   "metadata": {},
   "outputs": [],
   "source": [
    "print(\"\\n💡 ANALYSE DES RÉSULTATS:\")\n",
    "print(\"\\n1. PERFORMANCE DU MODÈLE:\")\n",
    "if r2 > 0.7:\n",
    "    print(f\" Excellent: R² = {r2:.4f} (>0.7)\")\n",
    "elif r2 > 0.5:\n",
    "    print(f\" Bon: R² = {r2:.4f} (0.5-0.7)\")\n",
    "else:\n",
    "    print(f\" Acceptable: R² = {r2:.4f} (<0.5)\")\n",
    "\n",
    "print(f\" MAPE = {mape*100:.4f}% indique une erreur moyenne de {mape*100:.2f}%\")\n",
    "print(f\" MAE = ${mae:,.4f} entre la prédiction et la réalité\")"
   ]
  }
 ],
 "metadata": {
  "kernelspec": {
   "display_name": ".venv",
   "language": "python",
   "name": "python3"
  },
  "language_info": {
   "name": "python",
   "version": "3.11.9"
  }
 },
 "nbformat": 4,
 "nbformat_minor": 5
}
